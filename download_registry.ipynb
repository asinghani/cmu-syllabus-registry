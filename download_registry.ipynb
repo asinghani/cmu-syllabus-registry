{
 "cells": [
  {
   "cell_type": "code",
   "execution_count": 71,
   "id": "b865b80e-c1c9-4282-8883-88dfac99f5f0",
   "metadata": {},
   "outputs": [],
   "source": [
    "from gql import gql, Client\n",
    "from gql.transport.requests import RequestsHTTPTransport\n",
    "from tqdm import tqdm\n",
    "import json, time\n",
    "import sys, os\n",
    "import requests\n",
    "import queries\n",
    "import string\n",
    "import copy"
   ]
  },
  {
   "cell_type": "code",
   "execution_count": 2,
   "id": "59781cc1-3c8a-4ba0-9591-56c7b77a7025",
   "metadata": {},
   "outputs": [],
   "source": [
    "with open(os.path.expanduser(\"~/.canvas-token\")) as f:\n",
    "    headers = {\"Authorization\": \"Bearer \"+f.read().strip()}\n",
    "    \n",
    "DATA_DIR = os.path.expanduser(\"~/temp/sched2ics-data\")"
   ]
  },
  {
   "cell_type": "code",
   "execution_count": 3,
   "id": "e38d02f7-3df8-4913-b99a-9b0f749ec82b",
   "metadata": {},
   "outputs": [],
   "source": [
    "transport = RequestsHTTPTransport(url=\"https://canvas.cmu.edu/api/graphql\", headers=headers)\n",
    "client = Client(transport=transport, fetch_schema_from_transport=True)"
   ]
  },
  {
   "cell_type": "code",
   "execution_count": 4,
   "id": "ac89fac3-bc42-43cc-82dd-ee725d383963",
   "metadata": {},
   "outputs": [
    {
     "name": "stdout",
     "output_type": "stream",
     "text": [
      "Fall 2022 (F22)\n",
      "Summer 2022 (N22)\n",
      "Summer 2022 (M22)\n",
      "Spring 2022 (S22)\n",
      "Fall 2021 (F21)\n",
      "Summer 2021 (N21)\n",
      "Summer 2021 (M21)\n",
      "Spring 2021 (S21)\n",
      "Fall 2020 (F20)\n",
      "Summer 2020 (N20)\n",
      "Summer 2020 (M20)\n",
      "Spring 2020 (S20)\n",
      "Fall 2019 (F19)\n",
      "Summer 2019 (N19)\n",
      "Summer 2019 (M19)\n"
     ]
    }
   ],
   "source": [
    "toplevel = client.execute(queries.syllabus_registry())\n",
    "\n",
    "# Pull out the valid semesters (ignore archive for now)\n",
    "sems = [x for x in toplevel[\"course\"][\"modulesConnection\"][\"nodes\"] if x[\"name\"].endswith(\")\")]\n",
    "sis_ids = {}\n",
    "for sem in sems:\n",
    "    semname = sem[\"name\"]\n",
    "    print(semname)\n",
    "    semid = semname.split(\"(\")[-1][:-1]\n",
    "    ids = [x[\"content\"][\"url\"].split(\":\")[-1] for x in sem[\"moduleItems\"]]\n",
    "    assert all(semid in x for x in ids)\n",
    "    assert semid not in sis_ids\n",
    "    sis_ids[semid] = ids"
   ]
  },
  {
   "cell_type": "code",
   "execution_count": null,
   "id": "5cf62f6f-11c6-4884-9065-b66de4c7d6bf",
   "metadata": {},
   "outputs": [],
   "source": []
  },
  {
   "cell_type": "code",
   "execution_count": 14,
   "id": "11cac055-3f15-42a0-a760-403768f70674",
   "metadata": {
    "tags": []
   },
   "outputs": [],
   "source": [
    "def get_all_items(courseid, moduleid):\n",
    "    out = []\n",
    "    url = f\"https://canvas.cmu.edu/api/v1/courses/{courseid}/modules/{moduleid}/items\"\n",
    "    while True:\n",
    "        res = requests.get(url, headers=headers)\n",
    "        out += res.json()\n",
    "        n = [x for x in res.headers[\"Link\"].split(\",\") if \"rel=\\\"next\\\"\" in x]\n",
    "        if len(n) == 0: break\n",
    "        url = n[0][1:-13]\n",
    "        \n",
    "    return out\n",
    "\n",
    "def get_syllabi(sis_id, verbose=False):\n",
    "    dat = client.execute(queries.get_syllabi(sis_id))\n",
    "    courseid = dat[\"course\"][\"_id\"]\n",
    "    dat = dat[\"course\"][\"modulesConnection\"][\"nodes\"]\n",
    "   \n",
    "    dat = [x for x in dat if x[\"name\"] == \"Available Syllabi\"]\n",
    "    assert len(dat) == 1\n",
    "    dat = dat[0]\n",
    "    \n",
    "    moduleid = dat[\"_id\"]\n",
    "    dat = dat[\"moduleItems\"]\n",
    "    \n",
    "    if verbose: print(\"Course Module\", courseid, moduleid)\n",
    "    \n",
    "    ## Weird bug with GQL API necessitates using REST here to get title fields\n",
    "    dat2 = get_all_items(courseid, moduleid)\n",
    "    \n",
    "    courses = []\n",
    "    for c in dat2:\n",
    "        if \":\" not in c[\"title\"] or \"-\" not in c[\"title\"]:\n",
    "            if \".\" in c[\"title\"] and \"-\" in c[\"title\"] and (c[\"title\"].split(\".\")[-1] in [\"pdf\", \"docx\"]):\n",
    "                course_num = c[\"title\"].split(\"-\")[0]\n",
    "                course_sec = c[\"title\"].split(\"-\")[1].split(\".\")[0]\n",
    "                course_name = course_num\n",
    "            else:\n",
    "                print(\"Warning: Invalid title\", c[\"title\"])\n",
    "                continue\n",
    "        else:\n",
    "            course_num = c[\"title\"].split(\"-\")[0]\n",
    "            course_sec = c[\"title\"].split(\"-\")[1].split(\":\")[0]\n",
    "            course_name = c[\"title\"][c[\"title\"].index(\":\")+1:].strip()\n",
    "        page_type = c[\"type\"]\n",
    "        assert page_type in [\"Page\", \"File\"]\n",
    "        page_url = c[\"html_url\"]\n",
    "        \n",
    "        if page_type == \"Page\":\n",
    "            page_id = c[\"page_url\"]\n",
    "            html = requests.get(f\"https://canvas.cmu.edu/api/v1/courses/{courseid}/pages/{page_id}\",\n",
    "                 headers=headers).json()[\"body\"]\n",
    "            \n",
    "            if len(html) < 50:\n",
    "                print(\"Warning: blank or short page found\", course_num, course_sec, page_url)\n",
    "                continue\n",
    "        \n",
    "        if verbose: print(course_num, course_sec, page_url)\n",
    "        courses.append((course_num, course_sec, course_name, page_type, page_url))\n",
    "    \n",
    "    return courses"
   ]
  },
  {
   "cell_type": "code",
   "execution_count": null,
   "id": "fad7e501-7b52-46d4-abad-1b4363190ac5",
   "metadata": {},
   "outputs": [],
   "source": []
  },
  {
   "cell_type": "code",
   "execution_count": 17,
   "id": "25bb4c91-93ab-4669-9eb8-1698b8d1e733",
   "metadata": {
    "collapsed": true,
    "jupyter": {
     "outputs_hidden": true
    },
    "tags": []
   },
   "outputs": [
    {
     "name": "stdout",
     "output_type": "stream",
     "text": [
      "['F22', 'N22', 'M22', 'S22', 'F21', 'N21', 'M21', 'S21', 'F20', 'N20', 'M20', 'S20', 'F19', 'N19', 'M19']\n"
     ]
    },
    {
     "name": "stderr",
     "output_type": "stream",
     "text": [
      " 10%|████████████                                                                                                           | 6/59 [00:17<03:09,  3.58s/it]"
     ]
    },
    {
     "name": "stdout",
     "output_type": "stream",
     "text": [
      "Warning: blank or short page found 70340 E https://canvas.cmu.edu/courses/30052/modules/items/5183331\n",
      "Warning: blank or short page found 70345 C https://canvas.cmu.edu/courses/30052/modules/items/5183355\n",
      "Warning: blank or short page found 70438 A https://canvas.cmu.edu/courses/30052/modules/items/5183627\n",
      "Warning: blank or short page found 70443 A https://canvas.cmu.edu/courses/30052/modules/items/5183605\n"
     ]
    },
    {
     "name": "stderr",
     "output_type": "stream",
     "text": [
      " 12%|██████████████                                                                                                         | 7/59 [00:42<09:20, 10.78s/it]"
     ]
    },
    {
     "name": "stdout",
     "output_type": "stream",
     "text": [
      "Warning: blank or short page found 70481 A https://canvas.cmu.edu/courses/30052/modules/items/5183359\n"
     ]
    },
    {
     "name": "stderr",
     "output_type": "stream",
     "text": [
      " 37%|████████████████████████████████████████████                                                                          | 22/59 [01:53<04:37,  7.50s/it]"
     ]
    },
    {
     "name": "stdout",
     "output_type": "stream",
     "text": [
      "Warning: blank or short page found 76100 Y https://canvas.cmu.edu/courses/30070/modules/items/5185510\n",
      "Warning: blank or short page found 76100 YY https://canvas.cmu.edu/courses/30070/modules/items/5185508\n",
      "Warning: blank or short page found 76269 B https://canvas.cmu.edu/courses/30070/modules/items/5185629\n",
      "Warning: blank or short page found 76270 E https://canvas.cmu.edu/courses/30070/modules/items/5185531\n",
      "Warning: blank or short page found 76392 A https://canvas.cmu.edu/courses/30070/modules/items/5185647\n",
      "Warning: blank or short page found 76792 A https://canvas.cmu.edu/courses/30070/modules/items/5185634\n"
     ]
    },
    {
     "name": "stderr",
     "output_type": "stream",
     "text": [
      " 39%|██████████████████████████████████████████████                                                                        | 23/59 [02:02<04:42,  7.85s/it]"
     ]
    },
    {
     "name": "stdout",
     "output_type": "stream",
     "text": [
      "Warning: blank or short page found 76854 A https://canvas.cmu.edu/courses/30070/modules/items/5185555\n"
     ]
    },
    {
     "name": "stderr",
     "output_type": "stream",
     "text": [
      " 51%|████████████████████████████████████████████████████████████                                                          | 30/59 [02:22<01:34,  3.25s/it]"
     ]
    },
    {
     "name": "stdout",
     "output_type": "stream",
     "text": [
      "Warning: blank or short page found 95888 A1 https://canvas.cmu.edu/courses/30078/modules/items/5186060\n",
      "Warning: blank or short page found 95888 B1 https://canvas.cmu.edu/courses/30078/modules/items/5186058\n"
     ]
    },
    {
     "name": "stderr",
     "output_type": "stream",
     "text": [
      " 53%|██████████████████████████████████████████████████████████████                                                        | 31/59 [02:29<02:03,  4.43s/it]"
     ]
    },
    {
     "name": "stdout",
     "output_type": "stream",
     "text": [
      "Warning: blank or short page found 95888 C1 https://canvas.cmu.edu/courses/30078/modules/items/5186136\n"
     ]
    },
    {
     "name": "stderr",
     "output_type": "stream",
     "text": [
      " 61%|████████████████████████████████████████████████████████████████████████                                              | 36/59 [02:51<02:08,  5.58s/it]"
     ]
    },
    {
     "name": "stdout",
     "output_type": "stream",
     "text": [
      "Warning: blank or short page found 24721 A https://canvas.cmu.edu/courses/30084/modules/items/5186889\n"
     ]
    },
    {
     "name": "stderr",
     "output_type": "stream",
     "text": [
      " 63%|██████████████████████████████████████████████████████████████████████████                                            | 37/59 [02:55<01:54,  5.19s/it]"
     ]
    },
    {
     "name": "stdout",
     "output_type": "stream",
     "text": [
      "Warning: blank or short page found 24780 A https://canvas.cmu.edu/courses/30084/modules/items/5186913\n"
     ]
    },
    {
     "name": "stderr",
     "output_type": "stream",
     "text": [
      " 66%|██████████████████████████████████████████████████████████████████████████████                                        | 39/59 [03:00<01:17,  3.85s/it]"
     ]
    },
    {
     "name": "stdout",
     "output_type": "stream",
     "text": [
      "Warning: blank or short page found 57761 C https://canvas.cmu.edu/courses/30087/modules/items/5187259\n"
     ]
    },
    {
     "name": "stderr",
     "output_type": "stream",
     "text": [
      " 75%|████████████████████████████████████████████████████████████████████████████████████████                              | 44/59 [03:20<00:53,  3.55s/it]"
     ]
    },
    {
     "name": "stdout",
     "output_type": "stream",
     "text": [
      "Warning: blank or short page found 33241 A https://canvas.cmu.edu/courses/30091/modules/items/5188560\n",
      "Warning: blank or short page found 33353 1 https://canvas.cmu.edu/courses/30091/modules/items/5188545\n",
      "Warning: blank or short page found 33445 A https://canvas.cmu.edu/courses/30091/modules/items/5188484\n"
     ]
    },
    {
     "name": "stderr",
     "output_type": "stream",
     "text": [
      " 76%|██████████████████████████████████████████████████████████████████████████████████████████                            | 45/59 [03:28<01:05,  4.70s/it]"
     ]
    },
    {
     "name": "stdout",
     "output_type": "stream",
     "text": [
      "Warning: blank or short page found 33778 A https://canvas.cmu.edu/courses/30091/modules/items/5188543\n",
      "Warning: blank or short page found 85102 1 https://canvas.cmu.edu/courses/30092/modules/items/5188638\n",
      "Warning: blank or short page found 85213 A https://canvas.cmu.edu/courses/30092/modules/items/5188631\n",
      "Warning: blank or short page found 85241 A https://canvas.cmu.edu/courses/30092/modules/items/5188662\n",
      "Warning: blank or short page found 85350 A https://canvas.cmu.edu/courses/30092/modules/items/5188653\n",
      "Warning: blank or short page found 85377 A https://canvas.cmu.edu/courses/30092/modules/items/5188659\n",
      "Warning: blank or short page found 85408 A https://canvas.cmu.edu/courses/30092/modules/items/5188609\n",
      "Warning: blank or short page found 85442 A https://canvas.cmu.edu/courses/30092/modules/items/5188652\n"
     ]
    },
    {
     "name": "stderr",
     "output_type": "stream",
     "text": [
      " 78%|████████████████████████████████████████████████████████████████████████████████████████████                          | 46/59 [03:31<00:56,  4.33s/it]"
     ]
    },
    {
     "name": "stdout",
     "output_type": "stream",
     "text": [
      "Warning: blank or short page found 85706 A https://canvas.cmu.edu/courses/30092/modules/items/5188655\n"
     ]
    },
    {
     "name": "stderr",
     "output_type": "stream",
     "text": [
      " 86%|██████████████████████████████████████████████████████████████████████████████████████████████████████                | 51/59 [04:10<01:17,  9.65s/it]"
     ]
    },
    {
     "name": "stdout",
     "output_type": "stream",
     "text": [
      "Warning: blank or short page found 17445 1 https://canvas.cmu.edu/courses/30098/modules/items/5189397\n",
      "Warning: blank or short page found 17445 A https://canvas.cmu.edu/courses/30098/modules/items/5189450\n",
      "Warning: blank or short page found 17445 B https://canvas.cmu.edu/courses/30098/modules/items/5189451\n",
      "Warning: blank or short page found 17599 A https://canvas.cmu.edu/courses/30098/modules/items/5189290\n",
      "Warning: blank or short page found 17645 1 https://canvas.cmu.edu/courses/30098/modules/items/5189403\n",
      "Warning: blank or short page found 17645 A https://canvas.cmu.edu/courses/30098/modules/items/5189404\n",
      "Warning: blank or short page found 17645 B https://canvas.cmu.edu/courses/30098/modules/items/5189453\n",
      "Warning: blank or short page found 17684 A https://canvas.cmu.edu/courses/30098/modules/items/5189347\n",
      "Warning: blank or short page found 17703 A https://canvas.cmu.edu/courses/30098/modules/items/5189296\n",
      "Warning: blank or short page found 17731 A https://canvas.cmu.edu/courses/30098/modules/items/5189334\n",
      "Warning: blank or short page found 17733 A https://canvas.cmu.edu/courses/30098/modules/items/5189344\n",
      "Warning: blank or short page found 17733 B https://canvas.cmu.edu/courses/30098/modules/items/5220905\n",
      "Warning: blank or short page found 17745 1 https://canvas.cmu.edu/courses/30098/modules/items/5189398\n",
      "Warning: blank or short page found 17745 A https://canvas.cmu.edu/courses/30098/modules/items/5189405\n",
      "Warning: blank or short page found 17745 B https://canvas.cmu.edu/courses/30098/modules/items/5235077\n",
      "Warning: blank or short page found 17745 B https://canvas.cmu.edu/courses/30098/modules/items/5189399\n"
     ]
    },
    {
     "name": "stderr",
     "output_type": "stream",
     "text": [
      " 88%|████████████████████████████████████████████████████████████████████████████████████████████████████████              | 52/59 [04:24<01:16, 10.93s/it]"
     ]
    },
    {
     "name": "stdout",
     "output_type": "stream",
     "text": [
      "Warning: blank or short page found 17759 A https://canvas.cmu.edu/courses/30098/modules/items/5189329\n"
     ]
    },
    {
     "name": "stderr",
     "output_type": "stream",
     "text": [
      "100%|██████████████████████████████████████████████████████████████████████████████████████████████████████████████████████| 59/59 [04:39<00:00,  4.73s/it]\n",
      "100%|██████████████████████████████████████████████████████████████████████████████████████████████████████████████████████| 59/59 [00:30<00:00,  1.96it/s]\n",
      "100%|██████████████████████████████████████████████████████████████████████████████████████████████████████████████████████| 59/59 [00:32<00:00,  1.80it/s]\n",
      "  2%|██                                                                                                                     | 1/59 [00:01<01:41,  1.75s/it]"
     ]
    },
    {
     "name": "stdout",
     "output_type": "stream",
     "text": [
      "Warning: blank or short page found 60110 A https://canvas.cmu.edu/courses/26836/modules/items/5025770\n",
      "Warning: blank or short page found 60134 B4 https://canvas.cmu.edu/courses/26836/modules/items/5025754\n",
      "Warning: blank or short page found 60141 A https://canvas.cmu.edu/courses/26836/modules/items/5025728\n",
      "Warning: blank or short page found 60157 A https://canvas.cmu.edu/courses/26836/modules/items/5025729\n",
      "Warning: blank or short page found 60407 A https://canvas.cmu.edu/courses/26836/modules/items/5025705\n",
      "Warning: blank or short page found 60414 A https://canvas.cmu.edu/courses/26836/modules/items/5025759\n",
      "Warning: blank or short page found 60424 A https://canvas.cmu.edu/courses/26836/modules/items/5025744\n",
      "Warning: blank or short page found 60430 A https://canvas.cmu.edu/courses/26836/modules/items/5025707\n"
     ]
    },
    {
     "name": "stderr",
     "output_type": "stream",
     "text": [
      " 10%|████████████                                                                                                           | 6/59 [00:15<02:17,  2.59s/it]"
     ]
    },
    {
     "name": "stdout",
     "output_type": "stream",
     "text": [
      "Warning: blank or short page found 46929 R4 https://canvas.cmu.edu/courses/26840/modules/items/5073604\n",
      "Warning: blank or short page found 70341 A https://canvas.cmu.edu/courses/26840/modules/items/5054884\n"
     ]
    },
    {
     "name": "stderr",
     "output_type": "stream",
     "text": [
      " 25%|██████████████████████████████                                                                                        | 15/59 [00:43<01:58,  2.70s/it]"
     ]
    },
    {
     "name": "stdout",
     "output_type": "stream",
     "text": [
      "Warning: blank or short page found 51744 A https://canvas.cmu.edu/courses/26851/modules/items/5026335\n"
     ]
    },
    {
     "name": "stderr",
     "output_type": "stream",
     "text": [
      " 27%|████████████████████████████████                                                                                      | 16/59 [00:47<02:20,  3.26s/it]"
     ]
    },
    {
     "name": "stdout",
     "output_type": "stream",
     "text": [
      "Warning: blank or short page found 51810 A https://canvas.cmu.edu/courses/26851/modules/items/5026386\n"
     ]
    },
    {
     "name": "stderr",
     "output_type": "stream",
     "text": [
      " 31%|████████████████████████████████████                                                                                  | 18/59 [00:58<02:48,  4.11s/it]"
     ]
    },
    {
     "name": "stdout",
     "output_type": "stream",
     "text": [
      "Warning: blank or short page found 54905 A https://canvas.cmu.edu/courses/26854/modules/items/5026873\n"
     ]
    },
    {
     "name": "stderr",
     "output_type": "stream",
     "text": [
      " 44%|████████████████████████████████████████████████████                                                                  | 26/59 [01:59<02:16,  4.14s/it]"
     ]
    },
    {
     "name": "stdout",
     "output_type": "stream",
     "text": [
      "Warning: blank or short page found 79391 X https://canvas.cmu.edu/courses/26862/modules/items/5028074\n",
      "Warning: blank or short page found 79393 W https://canvas.cmu.edu/courses/26862/modules/items/5028079\n"
     ]
    },
    {
     "name": "stderr",
     "output_type": "stream",
     "text": [
      " 46%|██████████████████████████████████████████████████████                                                                | 27/59 [02:06<02:37,  4.93s/it]"
     ]
    },
    {
     "name": "stdout",
     "output_type": "stream",
     "text": [
      "Warning: blank or short page found 79465 W https://canvas.cmu.edu/courses/26862/modules/items/5027972\n"
     ]
    },
    {
     "name": "stderr",
     "output_type": "stream",
     "text": [
      " 66%|██████████████████████████████████████████████████████████████████████████████                                        | 39/59 [02:51<01:11,  3.57s/it]"
     ]
    },
    {
     "name": "stdout",
     "output_type": "stream",
     "text": [
      "Warning: blank or short page found 57376 A https://canvas.cmu.edu/courses/26875/modules/items/5029360\n"
     ]
    },
    {
     "name": "stderr",
     "output_type": "stream",
     "text": [
      " 78%|████████████████████████████████████████████████████████████████████████████████████████████                          | 46/59 [03:16<00:43,  3.32s/it]"
     ]
    },
    {
     "name": "stdout",
     "output_type": "stream",
     "text": [
      "Warning: Invalid title 85360.pdf\n"
     ]
    },
    {
     "name": "stderr",
     "output_type": "stream",
     "text": [
      " 86%|██████████████████████████████████████████████████████████████████████████████████████████████████████                | 51/59 [03:46<01:02,  7.82s/it]"
     ]
    },
    {
     "name": "stdout",
     "output_type": "stream",
     "text": [
      "Warning: blank or short page found 17214 G https://canvas.cmu.edu/courses/26886/modules/items/5079407\n",
      "Warning: blank or short page found 17301 A https://canvas.cmu.edu/courses/26886/modules/items/5031523\n",
      "Warning: blank or short page found 17356 1 https://canvas.cmu.edu/courses/26886/modules/items/5031376\n",
      "Warning: blank or short page found 17356 A https://canvas.cmu.edu/courses/26886/modules/items/5031374\n",
      "Warning: blank or short page found 17356 B https://canvas.cmu.edu/courses/26886/modules/items/5031375\n",
      "Warning: blank or short page found 17422 A https://canvas.cmu.edu/courses/26886/modules/items/5031437\n",
      "Warning: blank or short page found 17445 D https://canvas.cmu.edu/courses/26886/modules/items/5079413\n",
      "Warning: blank or short page found 17514 G https://canvas.cmu.edu/courses/26886/modules/items/5079414\n",
      "Warning: blank or short page found 17645 D https://canvas.cmu.edu/courses/26886/modules/items/5079416\n",
      "Warning: blank or short page found 17685 A https://canvas.cmu.edu/courses/26886/modules/items/5031407\n",
      "Warning: blank or short page found 17701 A https://canvas.cmu.edu/courses/26886/modules/items/5031524\n",
      "Warning: blank or short page found 17722 A https://canvas.cmu.edu/courses/26886/modules/items/5031440\n",
      "Warning: blank or short page found 17735 A https://canvas.cmu.edu/courses/26886/modules/items/5031470\n",
      "Warning: blank or short page found 17745 B https://canvas.cmu.edu/courses/26886/modules/items/5079415\n"
     ]
    },
    {
     "name": "stderr",
     "output_type": "stream",
     "text": [
      " 92%|████████████████████████████████████████████████████████████████████████████████████████████████████████████          | 54/59 [04:11<00:34,  6.80s/it]"
     ]
    },
    {
     "name": "stdout",
     "output_type": "stream",
     "text": [
      "Warning: blank or short page found 16711 A https://canvas.cmu.edu/courses/26889/modules/items/5031802\n"
     ]
    },
    {
     "name": "stderr",
     "output_type": "stream",
     "text": [
      " 98%|████████████████████████████████████████████████████████████████████████████████████████████████████████████████████  | 58/59 [04:20<00:03,  3.34s/it]"
     ]
    },
    {
     "name": "stdout",
     "output_type": "stream",
     "text": [
      "Warning: Invalid title 36226-B\n"
     ]
    },
    {
     "name": "stderr",
     "output_type": "stream",
     "text": [
      "100%|██████████████████████████████████████████████████████████████████████████████████████████████████████████████████████| 59/59 [04:23<00:00,  4.46s/it]\n",
      "  0%|                                                                                                                               | 0/59 [00:00<?, ?it/s]"
     ]
    },
    {
     "name": "stdout",
     "output_type": "stream",
     "text": [
      "Warning: blank or short page found 48434 A https://canvas.cmu.edu/courses/23471/modules/items/4801759\n",
      "Warning: blank or short page found 48531 A https://canvas.cmu.edu/courses/23471/modules/items/4819145\n",
      "Warning: blank or short page found 48541 A1 https://canvas.cmu.edu/courses/23471/modules/items/4889756\n",
      "Warning: blank or short page found 48541 A2 https://canvas.cmu.edu/courses/23471/modules/items/4889746\n",
      "Warning: blank or short page found 48750 A https://canvas.cmu.edu/courses/23471/modules/items/4801826\n",
      "Warning: blank or short page found 48767 A https://canvas.cmu.edu/courses/23471/modules/items/4801830\n"
     ]
    },
    {
     "name": "stderr",
     "output_type": "stream",
     "text": [
      "  2%|██                                                                                                                     | 1/59 [00:03<03:39,  3.79s/it]"
     ]
    },
    {
     "name": "stdout",
     "output_type": "stream",
     "text": [
      "Warning: blank or short page found 48771 A https://canvas.cmu.edu/courses/23471/modules/items/4801833\n"
     ]
    },
    {
     "name": "stderr",
     "output_type": "stream",
     "text": [
      "  7%|████████                                                                                                               | 4/59 [00:09<01:43,  1.87s/it]"
     ]
    },
    {
     "name": "stdout",
     "output_type": "stream",
     "text": [
      "Warning: blank or short page found 03220 1 https://canvas.cmu.edu/courses/23474/modules/items/4802095\n",
      "Warning: blank or short page found 03220 A https://canvas.cmu.edu/courses/23474/modules/items/4802096\n",
      "Warning: blank or short page found 03220 B https://canvas.cmu.edu/courses/23474/modules/items/4802097\n",
      "Warning: blank or short page found 03366 A https://canvas.cmu.edu/courses/23474/modules/items/4802105\n",
      "Warning: blank or short page found 03435 A https://canvas.cmu.edu/courses/23474/modules/items/4802098\n",
      "Warning: blank or short page found 03709 A https://canvas.cmu.edu/courses/23474/modules/items/4802070\n"
     ]
    },
    {
     "name": "stderr",
     "output_type": "stream",
     "text": [
      "  8%|██████████                                                                                                             | 5/59 [00:16<03:24,  3.78s/it]"
     ]
    },
    {
     "name": "stdout",
     "output_type": "stream",
     "text": [
      "Warning: blank or short page found 03709 B https://canvas.cmu.edu/courses/23474/modules/items/4802071\n"
     ]
    },
    {
     "name": "stderr",
     "output_type": "stream",
     "text": [
      " 20%|████████████████████████                                                                                              | 12/59 [00:45<02:02,  2.61s/it]"
     ]
    },
    {
     "name": "stdout",
     "output_type": "stream",
     "text": [
      "Warning: blank or short page found 09212 A https://canvas.cmu.edu/courses/23483/modules/items/4802470\n",
      "Warning: blank or short page found 09231 1 https://canvas.cmu.edu/courses/23483/modules/items/4802485\n",
      "Warning: blank or short page found 09231 A https://canvas.cmu.edu/courses/23483/modules/items/4802486\n",
      "Warning: blank or short page found 09344 A https://canvas.cmu.edu/courses/23483/modules/items/4864918\n",
      "Warning: blank or short page found 09518 A https://canvas.cmu.edu/courses/23483/modules/items/4802502\n",
      "Warning: blank or short page found 09522 A https://canvas.cmu.edu/courses/23483/modules/items/4864930\n",
      "Warning: blank or short page found 09522 A https://canvas.cmu.edu/courses/23483/modules/items/4802503\n",
      "Warning: blank or short page found 09529 A https://canvas.cmu.edu/courses/23483/modules/items/4802533\n",
      "Warning: blank or short page found 09536 A https://canvas.cmu.edu/courses/23483/modules/items/4802504\n",
      "Warning: blank or short page found 09700 A https://canvas.cmu.edu/courses/23483/modules/items/4802507\n",
      "Warning: blank or short page found 09718 A https://canvas.cmu.edu/courses/23483/modules/items/4802510\n",
      "Warning: blank or short page found 09720 A2 https://canvas.cmu.edu/courses/23483/modules/items/4802511\n",
      "Warning: blank or short page found 09722 A https://canvas.cmu.edu/courses/23483/modules/items/4802512\n",
      "Warning: blank or short page found 09729 A https://canvas.cmu.edu/courses/23483/modules/items/4802534\n",
      "Warning: blank or short page found 09733 A https://canvas.cmu.edu/courses/23483/modules/items/4802513\n",
      "Warning: blank or short page found 09736 A https://canvas.cmu.edu/courses/23483/modules/items/4802514\n"
     ]
    },
    {
     "name": "stderr",
     "output_type": "stream",
     "text": [
      " 22%|██████████████████████████                                                                                            | 13/59 [00:57<04:05,  5.33s/it]"
     ]
    },
    {
     "name": "stdout",
     "output_type": "stream",
     "text": [
      "Warning: blank or short page found 09911 A https://canvas.cmu.edu/courses/23483/modules/items/4802521\n"
     ]
    },
    {
     "name": "stderr",
     "output_type": "stream",
     "text": [
      " 44%|████████████████████████████████████████████████████                                                                  | 26/59 [02:05<02:25,  4.39s/it]"
     ]
    },
    {
     "name": "stdout",
     "output_type": "stream",
     "text": [
      "Warning: blank or short page found 79244 A https://canvas.cmu.edu/courses/23498/modules/items/4804287\n"
     ]
    },
    {
     "name": "stderr",
     "output_type": "stream",
     "text": [
      " 58%|████████████████████████████████████████████████████████████████████                                                  | 34/59 [02:35<01:38,  3.95s/it]"
     ]
    },
    {
     "name": "stdout",
     "output_type": "stream",
     "text": [
      "Warning: blank or short page found 27798 A1 https://canvas.cmu.edu/courses/23506/modules/items/4804890\n"
     ]
    },
    {
     "name": "stderr",
     "output_type": "stream",
     "text": [
      " 59%|██████████████████████████████████████████████████████████████████████                                                | 35/59 [02:39<01:36,  4.01s/it]"
     ]
    },
    {
     "name": "stdout",
     "output_type": "stream",
     "text": [
      "Warning: Invalid title 21128-1.txt\n",
      "Warning: blank or short page found 21373 A https://canvas.cmu.edu/courses/23507/modules/items/4805194\n",
      "Warning: blank or short page found 21373 B https://canvas.cmu.edu/courses/23507/modules/items/4805195\n",
      "Warning: blank or short page found 21373 C https://canvas.cmu.edu/courses/23507/modules/items/4805196\n",
      "Warning: blank or short page found 21603 A https://canvas.cmu.edu/courses/23507/modules/items/4805076\n",
      "Warning: blank or short page found 21604 A https://canvas.cmu.edu/courses/23507/modules/items/4805077\n",
      "Warning: blank or short page found 21632 A https://canvas.cmu.edu/courses/23507/modules/items/4805214\n",
      "Warning: blank or short page found 21651 A https://canvas.cmu.edu/courses/23507/modules/items/4805082\n"
     ]
    },
    {
     "name": "stderr",
     "output_type": "stream",
     "text": [
      " 66%|██████████████████████████████████████████████████████████████████████████████                                        | 39/59 [02:59<01:16,  3.84s/it]"
     ]
    },
    {
     "name": "stdout",
     "output_type": "stream",
     "text": [
      "Warning: blank or short page found 57152 B https://canvas.cmu.edu/courses/23511/modules/items/4806357\n",
      "Warning: blank or short page found 57161 A https://canvas.cmu.edu/courses/23511/modules/items/4806335\n",
      "Warning: blank or short page found 57161 B https://canvas.cmu.edu/courses/23511/modules/items/4806336\n",
      "Warning: blank or short page found 57161 C https://canvas.cmu.edu/courses/23511/modules/items/4806337\n",
      "Warning: blank or short page found 57161 D https://canvas.cmu.edu/courses/23511/modules/items/4806338\n",
      "Warning: blank or short page found 57163 A https://canvas.cmu.edu/courses/23511/modules/items/4806339\n",
      "Warning: blank or short page found 57163 B https://canvas.cmu.edu/courses/23511/modules/items/4806340\n",
      "Warning: blank or short page found 57163 C https://canvas.cmu.edu/courses/23511/modules/items/4806341\n",
      "Warning: blank or short page found 57223 A https://canvas.cmu.edu/courses/23511/modules/items/4805581\n",
      "Warning: blank or short page found 57356 A https://canvas.cmu.edu/courses/23511/modules/items/4805665\n",
      "Warning: blank or short page found 57375 A https://canvas.cmu.edu/courses/23511/modules/items/4805674\n",
      "Warning: blank or short page found 57454 A https://canvas.cmu.edu/courses/23511/modules/items/4805759\n",
      "Warning: blank or short page found 57560 A https://canvas.cmu.edu/courses/23511/modules/items/4806388\n"
     ]
    },
    {
     "name": "stderr",
     "output_type": "stream",
     "text": [
      " 86%|██████████████████████████████████████████████████████████████████████████████████████████████████████                | 51/59 [04:01<01:03,  7.89s/it]"
     ]
    },
    {
     "name": "stdout",
     "output_type": "stream",
     "text": [
      "Warning: blank or short page found 17313 1 https://canvas.cmu.edu/courses/23522/modules/items/4807792\n",
      "Warning: blank or short page found 17313 A https://canvas.cmu.edu/courses/23522/modules/items/4807793\n",
      "Warning: blank or short page found 17313 B https://canvas.cmu.edu/courses/23522/modules/items/4807794\n",
      "Warning: blank or short page found 17313 C https://canvas.cmu.edu/courses/23522/modules/items/4807795\n",
      "Warning: blank or short page found 17313 D https://canvas.cmu.edu/courses/23522/modules/items/4807796\n",
      "Warning: blank or short page found 17313 W https://canvas.cmu.edu/courses/23522/modules/items/4807797\n",
      "Warning: blank or short page found 17363 1 https://canvas.cmu.edu/courses/23522/modules/items/4807774\n",
      "Warning: blank or short page found 17363 2 https://canvas.cmu.edu/courses/23522/modules/items/4807775\n",
      "Warning: blank or short page found 17363 A https://canvas.cmu.edu/courses/23522/modules/items/4807776\n",
      "Warning: blank or short page found 17363 R https://canvas.cmu.edu/courses/23522/modules/items/4807777\n",
      "Warning: blank or short page found 17415 A https://canvas.cmu.edu/courses/23522/modules/items/4807825\n",
      "Warning: blank or short page found 17437 A https://canvas.cmu.edu/courses/23522/modules/items/4807790\n",
      "Warning: blank or short page found 17637 A https://canvas.cmu.edu/courses/23522/modules/items/4807710\n",
      "Warning: blank or short page found 17637 R https://canvas.cmu.edu/courses/23522/modules/items/4807711\n",
      "Warning: blank or short page found 17663 1 https://canvas.cmu.edu/courses/23522/modules/items/4807798\n",
      "Warning: blank or short page found 17663 2 https://canvas.cmu.edu/courses/23522/modules/items/4807799\n",
      "Warning: blank or short page found 17663 A https://canvas.cmu.edu/courses/23522/modules/items/4807800\n",
      "Warning: blank or short page found 17663 R https://canvas.cmu.edu/courses/23522/modules/items/4807801\n"
     ]
    },
    {
     "name": "stderr",
     "output_type": "stream",
     "text": [
      " 88%|████████████████████████████████████████████████████████████████████████████████████████████████████████              | 52/59 [04:21<01:20, 11.49s/it]"
     ]
    },
    {
     "name": "stdout",
     "output_type": "stream",
     "text": [
      "Warning: blank or short page found 17905 A https://canvas.cmu.edu/courses/23522/modules/items/4807747\n"
     ]
    },
    {
     "name": "stderr",
     "output_type": "stream",
     "text": [
      " 92%|████████████████████████████████████████████████████████████████████████████████████████████████████████████          | 54/59 [04:26<00:34,  6.86s/it]"
     ]
    },
    {
     "name": "stdout",
     "output_type": "stream",
     "text": [
      "Warning: blank or short page found 16720 B https://canvas.cmu.edu/courses/23525/modules/items/4808113\n"
     ]
    },
    {
     "name": "stderr",
     "output_type": "stream",
     "text": [
      " 97%|██████████████████████████████████████████████████████████████████████████████████████████████████████████████████    | 57/59 [04:32<00:07,  3.60s/it]"
     ]
    },
    {
     "name": "stdout",
     "output_type": "stream",
     "text": [
      "Warning: Invalid title 36225-A\n",
      "Warning: Invalid title 36309-1\n",
      "Warning: Invalid title 36309-A\n",
      "Warning: Invalid title 36309-B\n",
      "Warning: Invalid title 36309-C\n",
      "Warning: Invalid title 36309-D\n",
      "Warning: Invalid title 36313-A\n"
     ]
    },
    {
     "name": "stderr",
     "output_type": "stream",
     "text": [
      " 98%|████████████████████████████████████████████████████████████████████████████████████████████████████████████████████  | 58/59 [04:35<00:03,  3.40s/it]"
     ]
    },
    {
     "name": "stdout",
     "output_type": "stream",
     "text": [
      "Warning: blank or short page found 36717 A1 https://canvas.cmu.edu/courses/23528/modules/items/4890008\n"
     ]
    },
    {
     "name": "stderr",
     "output_type": "stream",
     "text": [
      "100%|██████████████████████████████████████████████████████████████████████████████████████████████████████████████████████| 59/59 [04:37<00:00,  4.71s/it]\n",
      "100%|██████████████████████████████████████████████████████████████████████████████████████████████████████████████████████| 60/60 [00:32<00:00,  1.84it/s]\n",
      "100%|██████████████████████████████████████████████████████████████████████████████████████████████████████████████████████| 60/60 [00:33<00:00,  1.80it/s]\n",
      " 35%|█████████████████████████████████████████▎                                                                            | 21/60 [01:36<05:34,  8.57s/it]"
     ]
    },
    {
     "name": "stdout",
     "output_type": "stream",
     "text": [
      "Warning: blank or short page found 18879 M https://canvas.cmu.edu/courses/20304/modules/items/4612927\n"
     ]
    },
    {
     "name": "stderr",
     "output_type": "stream",
     "text": [
      " 75%|████████████████████████████████████████████████████████████████████████████████████████▌                             | 45/60 [03:02<01:04,  4.27s/it]"
     ]
    },
    {
     "name": "stdout",
     "output_type": "stream",
     "text": [
      "Warning: blank or short page found 85107 A https://canvas.cmu.edu/courses/20328/modules/items/4615946\n"
     ]
    },
    {
     "name": "stderr",
     "output_type": "stream",
     "text": [
      " 85%|████████████████████████████████████████████████████████████████████████████████████████████████████▎                 | 51/60 [03:41<01:09,  7.74s/it]"
     ]
    },
    {
     "name": "stdout",
     "output_type": "stream",
     "text": [
      "Warning: blank or short page found 17200 A https://canvas.cmu.edu/courses/20334/modules/items/4616657\n",
      "Warning: blank or short page found 17214 1 https://canvas.cmu.edu/courses/20334/modules/items/4616764\n",
      "Warning: blank or short page found 17214 A https://canvas.cmu.edu/courses/20334/modules/items/4616765\n",
      "Warning: blank or short page found 17214 B https://canvas.cmu.edu/courses/20334/modules/items/4616766\n",
      "Warning: blank or short page found 17214 C https://canvas.cmu.edu/courses/20334/modules/items/4616767\n",
      "Warning: blank or short page found 17214 D https://canvas.cmu.edu/courses/20334/modules/items/4616768\n",
      "Warning: blank or short page found 17214 E https://canvas.cmu.edu/courses/20334/modules/items/4616769\n",
      "Warning: blank or short page found 17214 F https://canvas.cmu.edu/courses/20334/modules/items/4616770\n",
      "Warning: blank or short page found 17214 G https://canvas.cmu.edu/courses/20334/modules/items/4616771\n",
      "Warning: blank or short page found 17355 1 https://canvas.cmu.edu/courses/20334/modules/items/4616746\n",
      "Warning: blank or short page found 17355 A https://canvas.cmu.edu/courses/20334/modules/items/4616747\n",
      "Warning: blank or short page found 17356 1 https://canvas.cmu.edu/courses/20334/modules/items/4616750\n",
      "Warning: blank or short page found 17356 A https://canvas.cmu.edu/courses/20334/modules/items/4616751\n",
      "Warning: blank or short page found 17356 B https://canvas.cmu.edu/courses/20334/modules/items/4616752\n",
      "Warning: blank or short page found 17400 1 https://canvas.cmu.edu/courses/20334/modules/items/4616659\n",
      "Warning: blank or short page found 17400 A https://canvas.cmu.edu/courses/20334/modules/items/4616660\n",
      "Warning: blank or short page found 17422 A https://canvas.cmu.edu/courses/20334/modules/items/4616776\n",
      "Warning: blank or short page found 17450 1 https://canvas.cmu.edu/courses/20334/modules/items/4616662\n",
      "Warning: blank or short page found 17450 A https://canvas.cmu.edu/courses/20334/modules/items/4616663\n",
      "Warning: blank or short page found 17480 A https://canvas.cmu.edu/courses/20334/modules/items/4616777\n",
      "Warning: blank or short page found 17514 1 https://canvas.cmu.edu/courses/20334/modules/items/4616792\n",
      "Warning: blank or short page found 17514 A https://canvas.cmu.edu/courses/20334/modules/items/4616793\n",
      "Warning: blank or short page found 17514 B https://canvas.cmu.edu/courses/20334/modules/items/4616794\n",
      "Warning: blank or short page found 17514 D https://canvas.cmu.edu/courses/20334/modules/items/4616796\n",
      "Warning: blank or short page found 17514 E https://canvas.cmu.edu/courses/20334/modules/items/4616797\n",
      "Warning: blank or short page found 17514 F https://canvas.cmu.edu/courses/20334/modules/items/4616798\n",
      "Warning: blank or short page found 17514 G https://canvas.cmu.edu/courses/20334/modules/items/4616799\n",
      "Warning: blank or short page found 17665 1 https://canvas.cmu.edu/courses/20334/modules/items/4616748\n",
      "Warning: blank or short page found 17665 A https://canvas.cmu.edu/courses/20334/modules/items/4616749\n",
      "Warning: blank or short page found 17684 A https://canvas.cmu.edu/courses/20334/modules/items/4616806\n",
      "Warning: blank or short page found 17685 A https://canvas.cmu.edu/courses/20334/modules/items/4616807\n",
      "Warning: blank or short page found 17700 1 https://canvas.cmu.edu/courses/20334/modules/items/4616740\n",
      "Warning: blank or short page found 17700 A https://canvas.cmu.edu/courses/20334/modules/items/4616741\n",
      "Warning: blank or short page found 17722 A https://canvas.cmu.edu/courses/20334/modules/items/4616687\n",
      "Warning: blank or short page found 17766 1 https://canvas.cmu.edu/courses/20334/modules/items/4616755\n",
      "Warning: blank or short page found 17766 A https://canvas.cmu.edu/courses/20334/modules/items/4616756\n",
      "Warning: blank or short page found 17766 B https://canvas.cmu.edu/courses/20334/modules/items/4616757\n",
      "Warning: blank or short page found 17780 A https://canvas.cmu.edu/courses/20334/modules/items/4616772\n",
      "Warning: blank or short page found 17801 A https://canvas.cmu.edu/courses/20334/modules/items/4616690\n",
      "Warning: blank or short page found 17803 A https://canvas.cmu.edu/courses/20334/modules/items/4616704\n",
      "Warning: blank or short page found 17819 1 https://canvas.cmu.edu/courses/20334/modules/items/4616761\n",
      "Warning: blank or short page found 17819 A https://canvas.cmu.edu/courses/20334/modules/items/4616762\n",
      "Warning: blank or short page found 17950 1 https://canvas.cmu.edu/courses/20334/modules/items/4616720\n"
     ]
    },
    {
     "name": "stderr",
     "output_type": "stream",
     "text": [
      " 87%|██████████████████████████████████████████████████████████████████████████████████████████████████████▎               | 52/60 [04:04<01:36, 12.07s/it]"
     ]
    },
    {
     "name": "stdout",
     "output_type": "stream",
     "text": [
      "Warning: blank or short page found 17950 A https://canvas.cmu.edu/courses/20334/modules/items/4616721\n"
     ]
    },
    {
     "name": "stderr",
     "output_type": "stream",
     "text": [
      "100%|██████████████████████████████████████████████████████████████████████████████████████████████████████████████████████| 60/60 [04:40<00:00,  4.68s/it]\n",
      "  0%|                                                                                                                               | 0/60 [00:00<?, ?it/s]"
     ]
    },
    {
     "name": "stdout",
     "output_type": "stream",
     "text": [
      "Warning: blank or short page found 48400 D https://canvas.cmu.edu/courses/18715/modules/items/4522097\n",
      "Warning: blank or short page found 48500 D https://canvas.cmu.edu/courses/18715/modules/items/4521992\n",
      "Warning: blank or short page found 48555 A https://canvas.cmu.edu/courses/18715/modules/items/4521970\n",
      "Warning: blank or short page found 48650 B https://canvas.cmu.edu/courses/18715/modules/items/4521902\n",
      "Warning: blank or short page found 48676 A1 https://canvas.cmu.edu/courses/18715/modules/items/4521933\n",
      "Warning: blank or short page found 48724 A https://canvas.cmu.edu/courses/18715/modules/items/4521978\n",
      "Warning: blank or short page found 48729 A https://canvas.cmu.edu/courses/18715/modules/items/4521971\n",
      "Warning: blank or short page found 48734 A https://canvas.cmu.edu/courses/18715/modules/items/4521974\n",
      "Warning: blank or short page found 48755 A https://canvas.cmu.edu/courses/18715/modules/items/4521899\n",
      "Warning: blank or short page found 48767 A https://canvas.cmu.edu/courses/18715/modules/items/4521976\n"
     ]
    },
    {
     "name": "stderr",
     "output_type": "stream",
     "text": [
      "  2%|█▉                                                                                                                     | 1/60 [00:04<04:12,  4.28s/it]"
     ]
    },
    {
     "name": "stdout",
     "output_type": "stream",
     "text": [
      "Warning: blank or short page found 48772 A https://canvas.cmu.edu/courses/18715/modules/items/4521916\n"
     ]
    },
    {
     "name": "stderr",
     "output_type": "stream",
     "text": [
      "  8%|█████████▉                                                                                                             | 5/60 [00:16<03:11,  3.48s/it]"
     ]
    },
    {
     "name": "stdout",
     "output_type": "stream",
     "text": [
      "Warning: blank or short page found 42302 B https://canvas.cmu.edu/courses/18719/modules/items/4522333\n",
      "Warning: blank or short page found 42620 A https://canvas.cmu.edu/courses/18719/modules/items/4522329\n",
      "Warning: blank or short page found 42683 A https://canvas.cmu.edu/courses/18719/modules/items/4522350\n",
      "Warning: blank or short page found 42701 A https://canvas.cmu.edu/courses/18719/modules/items/4522325\n",
      "Warning: blank or short page found 42782 A https://canvas.cmu.edu/courses/18719/modules/items/4522367\n",
      "Warning: blank or short page found 42782 B https://canvas.cmu.edu/courses/18719/modules/items/4522348\n"
     ]
    },
    {
     "name": "stderr",
     "output_type": "stream",
     "text": [
      " 10%|███████████▉                                                                                                           | 6/60 [00:19<03:08,  3.49s/it]"
     ]
    },
    {
     "name": "stdout",
     "output_type": "stream",
     "text": [
      "Warning: blank or short page found 42801 A https://canvas.cmu.edu/courses/18719/modules/items/4522330\n",
      "Warning: Invalid title 70415-W\n"
     ]
    },
    {
     "name": "stderr",
     "output_type": "stream",
     "text": [
      " 42%|█████████████████████████████████████████████████▏                                                                    | 25/60 [01:41<02:29,  4.27s/it]"
     ]
    },
    {
     "name": "stdout",
     "output_type": "stream",
     "text": [
      "Warning: blank or short page found 94866 A1 https://canvas.cmu.edu/courses/18741/modules/items/4524143\n"
     ]
    },
    {
     "name": "stderr",
     "output_type": "stream",
     "text": [
      " 43%|███████████████████████████████████████████████████▏                                                                  | 26/60 [01:46<02:24,  4.26s/it]"
     ]
    },
    {
     "name": "stdout",
     "output_type": "stream",
     "text": [
      "Warning: blank or short page found 94870 A1 https://canvas.cmu.edu/courses/18741/modules/items/4524141\n"
     ]
    },
    {
     "name": "stderr",
     "output_type": "stream",
     "text": [
      " 53%|██████████████████████████████████████████████████████████████▉                                                       | 32/60 [02:02<01:18,  2.82s/it]"
     ]
    },
    {
     "name": "stdout",
     "output_type": "stream",
     "text": [
      "Warning: Invalid title 49-720_Product and Brand Management_\n",
      "Warning: Invalid title 49-722_Launching New Products\n",
      "Warning: Invalid title 49702_Business Fundamentals\n"
     ]
    },
    {
     "name": "stderr",
     "output_type": "stream",
     "text": [
      " 58%|████████████████████████████████████████████████████████████████████▊                                                 | 35/60 [02:11<01:02,  2.50s/it]"
     ]
    },
    {
     "name": "stdout",
     "output_type": "stream",
     "text": [
      "Warning: blank or short page found 21111 1 https://canvas.cmu.edu/courses/18751/modules/items/4525046\n",
      "Warning: blank or short page found 21111 A https://canvas.cmu.edu/courses/18751/modules/items/4525044\n",
      "Warning: blank or short page found 21111 B https://canvas.cmu.edu/courses/18751/modules/items/4525062\n",
      "Warning: blank or short page found 21112 1 https://canvas.cmu.edu/courses/18751/modules/items/4524874\n",
      "Warning: Invalid title 21120-B\n"
     ]
    },
    {
     "name": "stderr",
     "output_type": "stream",
     "text": [
      " 73%|██████████████████████████████████████████████████████████████████████████████████████▌                               | 44/60 [03:01<00:51,  3.19s/it]"
     ]
    },
    {
     "name": "stdout",
     "output_type": "stream",
     "text": [
      "Warning: blank or short page found 33100 2 https://canvas.cmu.edu/courses/18759/modules/items/4526858\n"
     ]
    },
    {
     "name": "stderr",
     "output_type": "stream",
     "text": [
      " 75%|████████████████████████████████████████████████████████████████████████████████████████▌                             | 45/60 [03:11<01:19,  5.30s/it]"
     ]
    },
    {
     "name": "stdout",
     "output_type": "stream",
     "text": [
      "Warning: blank or short page found 85219 A https://canvas.cmu.edu/courses/18760/modules/items/4526920\n",
      "Warning: blank or short page found 85232 A https://canvas.cmu.edu/courses/18760/modules/items/4526937\n",
      "Warning: blank or short page found 85426 A https://canvas.cmu.edu/courses/18760/modules/items/4527024\n"
     ]
    },
    {
     "name": "stderr",
     "output_type": "stream",
     "text": [
      " 77%|██████████████████████████████████████████████████████████████████████████████████████████▍                           | 46/60 [03:15<01:08,  4.90s/it]"
     ]
    },
    {
     "name": "stdout",
     "output_type": "stream",
     "text": [
      "Warning: blank or short page found 85726 A https://canvas.cmu.edu/courses/18760/modules/items/4526944\n"
     ]
    },
    {
     "name": "stderr",
     "output_type": "stream",
     "text": [
      " 82%|████████████████████████████████████████████████████████████████████████████████████████████████▎                     | 49/60 [03:23<00:35,  3.26s/it]"
     ]
    },
    {
     "name": "stdout",
     "output_type": "stream",
     "text": [
      "Warning: blank or short page found 15482 A https://canvas.cmu.edu/courses/18764/modules/items/4527515\n",
      "Warning: blank or short page found 15652 1 https://canvas.cmu.edu/courses/18764/modules/items/4527270\n",
      "Warning: blank or short page found 15652 A https://canvas.cmu.edu/courses/18764/modules/items/4527267\n",
      "Warning: blank or short page found 15652 B https://canvas.cmu.edu/courses/18764/modules/items/4527268\n",
      "Warning: blank or short page found 15652 C https://canvas.cmu.edu/courses/18764/modules/items/4527269\n"
     ]
    },
    {
     "name": "stderr",
     "output_type": "stream",
     "text": [
      " 85%|████████████████████████████████████████████████████████████████████████████████████████████████████▎                 | 51/60 [03:44<01:01,  6.83s/it]"
     ]
    },
    {
     "name": "stdout",
     "output_type": "stream",
     "text": [
      "Warning: blank or short page found 17214 1 https://canvas.cmu.edu/courses/18766/modules/items/4527707\n",
      "Warning: blank or short page found 17214 A https://canvas.cmu.edu/courses/18766/modules/items/4527702\n",
      "Warning: blank or short page found 17214 B https://canvas.cmu.edu/courses/18766/modules/items/4527704\n",
      "Warning: blank or short page found 17214 C https://canvas.cmu.edu/courses/18766/modules/items/4527705\n",
      "Warning: blank or short page found 17214 D https://canvas.cmu.edu/courses/18766/modules/items/4527706\n",
      "Warning: blank or short page found 17214 E https://canvas.cmu.edu/courses/18766/modules/items/4527703\n",
      "Warning: blank or short page found 17214 F https://canvas.cmu.edu/courses/18766/modules/items/4527701\n",
      "Warning: blank or short page found 17313 1 https://canvas.cmu.edu/courses/18766/modules/items/4527751\n",
      "Warning: blank or short page found 17313 2 https://canvas.cmu.edu/courses/18766/modules/items/4527747\n",
      "Warning: blank or short page found 17313 A https://canvas.cmu.edu/courses/18766/modules/items/4527750\n",
      "Warning: blank or short page found 17313 B https://canvas.cmu.edu/courses/18766/modules/items/4527749\n",
      "Warning: blank or short page found 17313 C https://canvas.cmu.edu/courses/18766/modules/items/4527717\n",
      "Warning: blank or short page found 17313 D https://canvas.cmu.edu/courses/18766/modules/items/4527773\n",
      "Warning: blank or short page found 17400 A https://canvas.cmu.edu/courses/18766/modules/items/4527770\n",
      "Warning: blank or short page found 17428 A https://canvas.cmu.edu/courses/18766/modules/items/4527752\n",
      "Warning: blank or short page found 17480 A https://canvas.cmu.edu/courses/18766/modules/items/4527713\n",
      "Warning: blank or short page found 17514 1 https://canvas.cmu.edu/courses/18766/modules/items/4527779\n",
      "Warning: blank or short page found 17514 A https://canvas.cmu.edu/courses/18766/modules/items/4527778\n",
      "Warning: blank or short page found 17514 B https://canvas.cmu.edu/courses/18766/modules/items/4527776\n",
      "Warning: blank or short page found 17514 C https://canvas.cmu.edu/courses/18766/modules/items/4527775\n",
      "Warning: blank or short page found 17514 D https://canvas.cmu.edu/courses/18766/modules/items/4527781\n",
      "Warning: blank or short page found 17514 E https://canvas.cmu.edu/courses/18766/modules/items/4527780\n",
      "Warning: blank or short page found 17514 F https://canvas.cmu.edu/courses/18766/modules/items/4527777\n",
      "Warning: blank or short page found 17621 A https://canvas.cmu.edu/courses/18766/modules/items/4527715\n",
      "Warning: blank or short page found 17700 A https://canvas.cmu.edu/courses/18766/modules/items/4527719\n",
      "Warning: blank or short page found 17726 W1 https://canvas.cmu.edu/courses/18766/modules/items/4529856\n",
      "Warning: blank or short page found 17726 W2 https://canvas.cmu.edu/courses/18766/modules/items/4572643\n",
      "Warning: blank or short page found 17728 A https://canvas.cmu.edu/courses/18766/modules/items/4527765\n",
      "Warning: blank or short page found 17780 A https://canvas.cmu.edu/courses/18766/modules/items/4527763\n",
      "Warning: blank or short page found 17821 A https://canvas.cmu.edu/courses/18766/modules/items/4527745\n"
     ]
    },
    {
     "name": "stderr",
     "output_type": "stream",
     "text": [
      " 87%|██████████████████████████████████████████████████████████████████████████████████████████████████████▎               | 52/60 [04:00<01:16,  9.61s/it]"
     ]
    },
    {
     "name": "stdout",
     "output_type": "stream",
     "text": [
      "Warning: blank or short page found 17905 A https://canvas.cmu.edu/courses/18766/modules/items/4527801\n"
     ]
    },
    {
     "name": "stderr",
     "output_type": "stream",
     "text": [
      "100%|██████████████████████████████████████████████████████████████████████████████████████████████████████████████████████| 60/60 [04:36<00:00,  4.60s/it]\n",
      " 20%|███████████████████████▌                                                                                              | 12/60 [00:06<00:26,  1.79it/s]"
     ]
    },
    {
     "name": "stdout",
     "output_type": "stream",
     "text": [
      "Warning: blank or short page found 09105 E https://canvas.cmu.edu/courses/17036/modules/items/4468751\n",
      "Warning: blank or short page found 09105 U https://canvas.cmu.edu/courses/17036/modules/items/4468752\n"
     ]
    },
    {
     "name": "stderr",
     "output_type": "stream",
     "text": [
      " 22%|█████████████████████████▌                                                                                            | 13/60 [00:08<00:38,  1.23it/s]"
     ]
    },
    {
     "name": "stdout",
     "output_type": "stream",
     "text": [
      "Warning: blank or short page found 09218 U https://canvas.cmu.edu/courses/17036/modules/items/4504447\n"
     ]
    },
    {
     "name": "stderr",
     "output_type": "stream",
     "text": [
      "100%|██████████████████████████████████████████████████████████████████████████████████████████████████████████████████████| 60/60 [00:34<00:00,  1.74it/s]\n",
      " 22%|█████████████████████████▌                                                                                            | 13/60 [00:09<00:44,  1.06it/s]"
     ]
    },
    {
     "name": "stdout",
     "output_type": "stream",
     "text": [
      "Warning: blank or short page found 09106 S https://canvas.cmu.edu/courses/16976/modules/items/4504445\n",
      "Warning: Invalid title Syllabus OChem I- S1-2020.doc\n"
     ]
    },
    {
     "name": "stderr",
     "output_type": "stream",
     "text": [
      "100%|██████████████████████████████████████████████████████████████████████████████████████████████████████████████████████| 60/60 [00:36<00:00,  1.63it/s]\n",
      "  0%|                                                                                                                               | 0/60 [00:00<?, ?it/s]"
     ]
    },
    {
     "name": "stdout",
     "output_type": "stream",
     "text": [
      "Warning: blank or short page found 48105 1 https://canvas.cmu.edu/courses/12901/modules/items/4367347\n",
      "Warning: blank or short page found 48241 A https://canvas.cmu.edu/courses/12901/modules/items/4367401\n",
      "Warning: blank or short page found 48497 A https://canvas.cmu.edu/courses/12901/modules/items/4352984\n",
      "Warning: blank or short page found 48497 B https://canvas.cmu.edu/courses/12901/modules/items/4352985\n",
      "Warning: blank or short page found 48555 A https://canvas.cmu.edu/courses/12901/modules/items/4367397\n",
      "Warning: blank or short page found 48644 A https://canvas.cmu.edu/courses/12901/modules/items/4353103\n"
     ]
    },
    {
     "name": "stderr",
     "output_type": "stream",
     "text": [
      "  2%|█▉                                                                                                                     | 1/60 [00:03<03:31,  3.58s/it]"
     ]
    },
    {
     "name": "stdout",
     "output_type": "stream",
     "text": [
      "Warning: blank or short page found 48755 A https://canvas.cmu.edu/courses/12901/modules/items/4367392\n"
     ]
    },
    {
     "name": "stderr",
     "output_type": "stream",
     "text": [
      " 20%|███████████████████████▌                                                                                              | 12/60 [00:36<01:30,  1.88s/it]"
     ]
    },
    {
     "name": "stdout",
     "output_type": "stream",
     "text": [
      "Warning: blank or short page found 09101 13 https://canvas.cmu.edu/courses/12913/modules/items/4382262\n",
      "Warning: blank or short page found 09204 A https://canvas.cmu.edu/courses/12913/modules/items/4368254\n",
      "Warning: blank or short page found 09222 1 https://canvas.cmu.edu/courses/12913/modules/items/4344573\n",
      "Warning: blank or short page found 09222 A https://canvas.cmu.edu/courses/12913/modules/items/4344574\n",
      "Warning: blank or short page found 09510 A https://canvas.cmu.edu/courses/12913/modules/items/4344584\n"
     ]
    },
    {
     "name": "stderr",
     "output_type": "stream",
     "text": [
      " 22%|█████████████████████████▌                                                                                            | 13/60 [00:40<01:54,  2.44s/it]"
     ]
    },
    {
     "name": "stdout",
     "output_type": "stream",
     "text": [
      "Warning: blank or short page found 09710 A https://canvas.cmu.edu/courses/12913/modules/items/4274114\n"
     ]
    },
    {
     "name": "stderr",
     "output_type": "stream",
     "text": [
      " 30%|███████████████████████████████████▍                                                                                  | 18/60 [00:54<02:02,  2.91s/it]"
     ]
    },
    {
     "name": "stdout",
     "output_type": "stream",
     "text": [
      "Warning: blank or short page found 54328 A https://canvas.cmu.edu/courses/12920/modules/items/4368829\n",
      "Warning: blank or short page found 54330 A https://canvas.cmu.edu/courses/12920/modules/items/4354210\n",
      "Warning: blank or short page found 54334 A https://canvas.cmu.edu/courses/12920/modules/items/4331755\n",
      "Warning: blank or short page found 54363 A https://canvas.cmu.edu/courses/12920/modules/items/4336323\n",
      "Warning: blank or short page found 54368 A3 https://canvas.cmu.edu/courses/12920/modules/items/4331795\n",
      "Warning: blank or short page found 54390 A https://canvas.cmu.edu/courses/12920/modules/items/4368958\n",
      "Warning: blank or short page found 54397 A https://canvas.cmu.edu/courses/12920/modules/items/4369199\n",
      "Warning: blank or short page found 54505 A https://canvas.cmu.edu/courses/12920/modules/items/4354236\n",
      "Warning: blank or short page found 54527 A https://canvas.cmu.edu/courses/12920/modules/items/4354244\n",
      "Warning: blank or short page found 54548 A https://canvas.cmu.edu/courses/12920/modules/items/4368819\n",
      "Warning: blank or short page found 54666 A https://canvas.cmu.edu/courses/12920/modules/items/4354259\n",
      "Warning: blank or short page found 54666 B https://canvas.cmu.edu/courses/12920/modules/items/4354260\n",
      "Warning: blank or short page found 54729 A https://canvas.cmu.edu/courses/12920/modules/items/4354331\n",
      "Warning: blank or short page found 54740 A https://canvas.cmu.edu/courses/12920/modules/items/4368910\n",
      "Warning: blank or short page found 54748 A https://canvas.cmu.edu/courses/12920/modules/items/4368879\n",
      "Warning: blank or short page found 54766 A https://canvas.cmu.edu/courses/12920/modules/items/4369137\n",
      "Warning: blank or short page found 54768 A3 https://canvas.cmu.edu/courses/12920/modules/items/4330064\n",
      "Warning: blank or short page found 54788 A https://canvas.cmu.edu/courses/12920/modules/items/4368838\n",
      "Warning: blank or short page found 54790 A https://canvas.cmu.edu/courses/12920/modules/items/4328310\n",
      "Warning: blank or short page found 54819 A https://canvas.cmu.edu/courses/12920/modules/items/4369113\n",
      "Warning: blank or short page found 54888 A https://canvas.cmu.edu/courses/12920/modules/items/4369114\n",
      "Warning: blank or short page found 54890 A https://canvas.cmu.edu/courses/12920/modules/items/4368926\n",
      "Warning: blank or short page found 54898 A https://canvas.cmu.edu/courses/12920/modules/items/4369115\n",
      "Warning: blank or short page found 54905 A https://canvas.cmu.edu/courses/12920/modules/items/4354390\n",
      "Warning: blank or short page found 54928 A https://canvas.cmu.edu/courses/12920/modules/items/4369014\n"
     ]
    },
    {
     "name": "stderr",
     "output_type": "stream",
     "text": [
      " 32%|█████████████████████████████████████▎                                                                                | 19/60 [01:15<05:38,  8.25s/it]"
     ]
    },
    {
     "name": "stdout",
     "output_type": "stream",
     "text": [
      "Warning: blank or short page found 54997 A https://canvas.cmu.edu/courses/12920/modules/items/4368984\n"
     ]
    },
    {
     "name": "stderr",
     "output_type": "stream",
     "text": [
      " 33%|███████████████████████████████████████▎                                                                              | 20/60 [01:16<04:10,  6.25s/it]"
     ]
    },
    {
     "name": "stdout",
     "output_type": "stream",
     "text": [
      "Warning: blank or short page found 18290 1 https://canvas.cmu.edu/courses/12922/modules/items/4369603\n",
      "Warning: blank or short page found 18290 A https://canvas.cmu.edu/courses/12922/modules/items/4369601\n",
      "Warning: blank or short page found 18290 B https://canvas.cmu.edu/courses/12922/modules/items/4369602\n",
      "Warning: blank or short page found 18310 A https://canvas.cmu.edu/courses/12922/modules/items/4369568\n",
      "Warning: blank or short page found 18320 1 https://canvas.cmu.edu/courses/12922/modules/items/4369586\n",
      "Warning: blank or short page found 18411 A https://canvas.cmu.edu/courses/12922/modules/items/4369467\n",
      "Warning: blank or short page found 18416 A https://canvas.cmu.edu/courses/12922/modules/items/4369623\n",
      "Warning: blank or short page found 18441 A https://canvas.cmu.edu/courses/12922/modules/items/4369615\n",
      "Warning: blank or short page found 18461 A https://canvas.cmu.edu/courses/12922/modules/items/4369576\n",
      "Warning: blank or short page found 18462 A https://canvas.cmu.edu/courses/12922/modules/items/4369535\n",
      "Warning: blank or short page found 18616 A https://canvas.cmu.edu/courses/12922/modules/items/4369604\n",
      "Warning: blank or short page found 18636 A https://canvas.cmu.edu/courses/12922/modules/items/4369617\n",
      "Warning: blank or short page found 18636 SV https://canvas.cmu.edu/courses/12922/modules/items/4369618\n",
      "Warning: blank or short page found 18639 A https://canvas.cmu.edu/courses/12922/modules/items/4369526\n",
      "Warning: blank or short page found 18645 A https://canvas.cmu.edu/courses/12922/modules/items/4369626\n",
      "Warning: blank or short page found 18645 SV https://canvas.cmu.edu/courses/12922/modules/items/4369625\n",
      "Warning: blank or short page found 18652 RW https://canvas.cmu.edu/courses/12922/modules/items/4369587\n",
      "Warning: blank or short page found 18652 SA https://canvas.cmu.edu/courses/12922/modules/items/4331885\n",
      "Warning: blank or short page found 18652 SB https://canvas.cmu.edu/courses/12922/modules/items/4331886\n",
      "Warning: blank or short page found 18654 SV https://canvas.cmu.edu/courses/12922/modules/items/4369539\n",
      "Warning: blank or short page found 18655 SV https://canvas.cmu.edu/courses/12922/modules/items/4369569\n",
      "Warning: blank or short page found 18659 SV https://canvas.cmu.edu/courses/12922/modules/items/4258427\n",
      "Warning: blank or short page found 18661 A https://canvas.cmu.edu/courses/12922/modules/items/4369577\n",
      "Warning: blank or short page found 18661 RW https://canvas.cmu.edu/courses/12922/modules/items/4369474\n",
      "Warning: blank or short page found 18661 SV https://canvas.cmu.edu/courses/12922/modules/items/4369481\n",
      "Warning: blank or short page found 18662 A https://canvas.cmu.edu/courses/12922/modules/items/4369537\n",
      "Warning: blank or short page found 18685 A https://canvas.cmu.edu/courses/12922/modules/items/4369471\n",
      "Warning: blank or short page found 18685 RW https://canvas.cmu.edu/courses/12922/modules/items/4369532\n",
      "Warning: blank or short page found 18690 A https://canvas.cmu.edu/courses/12922/modules/items/4369588\n",
      "Warning: blank or short page found 18698 A https://canvas.cmu.edu/courses/12922/modules/items/4369578\n",
      "Warning: blank or short page found 18702 A4 https://canvas.cmu.edu/courses/12922/modules/items/4369527\n",
      "Warning: blank or short page found 18723 A https://canvas.cmu.edu/courses/12922/modules/items/4369589\n",
      "Warning: blank or short page found 18733 SV https://canvas.cmu.edu/courses/12922/modules/items/4369528\n",
      "Warning: blank or short page found 18739 F https://canvas.cmu.edu/courses/12922/modules/items/4345317\n",
      "Warning: blank or short page found 18739 SF https://canvas.cmu.edu/courses/12922/modules/items/4345318\n",
      "Warning: blank or short page found 18741 A https://canvas.cmu.edu/courses/12922/modules/items/4369636\n",
      "Warning: blank or short page found 18744 SV https://canvas.cmu.edu/courses/12922/modules/items/4369570\n",
      "Warning: blank or short page found 18752 A https://canvas.cmu.edu/courses/12922/modules/items/4369469\n",
      "Warning: blank or short page found 18847 E https://canvas.cmu.edu/courses/12922/modules/items/4369477\n",
      "Warning: blank or short page found 18847 SE https://canvas.cmu.edu/courses/12922/modules/items/4369476\n",
      "Warning: blank or short page found 18898 D https://canvas.cmu.edu/courses/12922/modules/items/4369479\n",
      "Warning: blank or short page found 18899 B3 https://canvas.cmu.edu/courses/12922/modules/items/4369600\n"
     ]
    },
    {
     "name": "stderr",
     "output_type": "stream",
     "text": [
      " 35%|█████████████████████████████████████████▎                                                                            | 21/60 [01:37<06:49, 10.50s/it]"
     ]
    },
    {
     "name": "stdout",
     "output_type": "stream",
     "text": [
      "Warning: blank or short page found 18989 A https://canvas.cmu.edu/courses/12922/modules/items/4369594\n"
     ]
    },
    {
     "name": "stderr",
     "output_type": "stream",
     "text": [
      " 37%|███████████████████████████████████████████▎                                                                          | 22/60 [01:41<05:27,  8.63s/it]"
     ]
    },
    {
     "name": "stdout",
     "output_type": "stream",
     "text": [
      "Warning: blank or short page found 76270 W https://canvas.cmu.edu/courses/12924/modules/items/4354775\n",
      "Warning: blank or short page found 76318 W https://canvas.cmu.edu/courses/12924/modules/items/4354789\n",
      "Warning: blank or short page found 76352 A https://canvas.cmu.edu/courses/12924/modules/items/4370347\n",
      "Warning: blank or short page found 76425 W https://canvas.cmu.edu/courses/12924/modules/items/4370442\n",
      "Warning: blank or short page found 76752 A https://canvas.cmu.edu/courses/12924/modules/items/4370349\n"
     ]
    },
    {
     "name": "stderr",
     "output_type": "stream",
     "text": [
      " 42%|█████████████████████████████████████████████████▏                                                                    | 25/60 [01:55<03:00,  5.16s/it]"
     ]
    },
    {
     "name": "stdout",
     "output_type": "stream",
     "text": [
      "Warning: blank or short page found 94870 A3 https://canvas.cmu.edu/courses/12927/modules/items/4158164\n"
     ]
    },
    {
     "name": "stderr",
     "output_type": "stream",
     "text": [
      " 43%|███████████████████████████████████████████████████▏                                                                  | 26/60 [01:59<02:47,  4.91s/it]"
     ]
    },
    {
     "name": "stdout",
     "output_type": "stream",
     "text": [
      "Warning: blank or short page found 94870 B3 https://canvas.cmu.edu/courses/12927/modules/items/4158165\n"
     ]
    },
    {
     "name": "stderr",
     "output_type": "stream",
     "text": [
      " 50%|███████████████████████████████████████████████████████████                                                           | 30/60 [02:11<01:33,  3.13s/it]"
     ]
    },
    {
     "name": "stdout",
     "output_type": "stream",
     "text": [
      "Warning: blank or short page found 95722 A3 https://canvas.cmu.edu/courses/12932/modules/items/4371503\n",
      "Warning: blank or short page found 95722 B3 https://canvas.cmu.edu/courses/12932/modules/items/4371504\n",
      "Warning: blank or short page found 95791 Z4 https://canvas.cmu.edu/courses/12932/modules/items/4371537\n",
      "Warning: blank or short page found 95888 A4 https://canvas.cmu.edu/courses/12932/modules/items/4371483\n",
      "Warning: blank or short page found 95888 B3 https://canvas.cmu.edu/courses/12932/modules/items/4332471\n",
      "Warning: blank or short page found 95888 C3 https://canvas.cmu.edu/courses/12932/modules/items/4334286\n"
     ]
    },
    {
     "name": "stderr",
     "output_type": "stream",
     "text": [
      " 52%|████████████████████████████████████████████████████████████▉                                                         | 31/60 [02:20<02:14,  4.64s/it]"
     ]
    },
    {
     "name": "stdout",
     "output_type": "stream",
     "text": [
      "Warning: blank or short page found 95888 D3 https://canvas.cmu.edu/courses/12932/modules/items/4334287\n"
     ]
    },
    {
     "name": "stderr",
     "output_type": "stream",
     "text": [
      " 58%|████████████████████████████████████████████████████████████████████▊                                                 | 35/60 [02:31<01:16,  3.08s/it]"
     ]
    },
    {
     "name": "stdout",
     "output_type": "stream",
     "text": [
      "Warning: blank or short page found 21369 1 https://canvas.cmu.edu/courses/12937/modules/items/4337139\n"
     ]
    },
    {
     "name": "stderr",
     "output_type": "stream",
     "text": [
      " 60%|██████████████████████████████████████████████████████████████████████▊                                               | 36/60 [02:43<02:19,  5.82s/it]"
     ]
    },
    {
     "name": "stdout",
     "output_type": "stream",
     "text": [
      "Warning: blank or short page found 21623 A https://canvas.cmu.edu/courses/12937/modules/items/4289408\n",
      "Warning: blank or short page found 24652 A https://canvas.cmu.edu/courses/12938/modules/items/4356033\n"
     ]
    },
    {
     "name": "stderr",
     "output_type": "stream",
     "text": [
      " 62%|████████████████████████████████████████████████████████████████████████▊                                             | 37/60 [02:47<02:00,  5.25s/it]"
     ]
    },
    {
     "name": "stdout",
     "output_type": "stream",
     "text": [
      "Warning: blank or short page found 24783 A https://canvas.cmu.edu/courses/12938/modules/items/4372621\n"
     ]
    },
    {
     "name": "stderr",
     "output_type": "stream",
     "text": [
      " 75%|████████████████████████████████████████████████████████████████████████████████████████▌                             | 45/60 [03:11<00:57,  3.82s/it]"
     ]
    },
    {
     "name": "stdout",
     "output_type": "stream",
     "text": [
      "Warning: blank or short page found 85707 A https://canvas.cmu.edu/courses/12946/modules/items/4375346\n"
     ]
    },
    {
     "name": "stderr",
     "output_type": "stream",
     "text": [
      " 82%|████████████████████████████████████████████████████████████████████████████████████████████████▎                     | 49/60 [03:24<00:36,  3.34s/it]"
     ]
    },
    {
     "name": "stdout",
     "output_type": "stream",
     "text": [
      "Warning: blank or short page found 15122 1 https://canvas.cmu.edu/courses/12950/modules/items/4376062\n",
      "Warning: blank or short page found 15122 2 https://canvas.cmu.edu/courses/12950/modules/items/4376060\n",
      "Warning: blank or short page found 15122 3 https://canvas.cmu.edu/courses/12950/modules/items/4376066\n"
     ]
    },
    {
     "name": "stderr",
     "output_type": "stream",
     "text": [
      " 85%|████████████████████████████████████████████████████████████████████████████████████████████████████▎                 | 51/60 [03:40<00:49,  5.52s/it]"
     ]
    },
    {
     "name": "stdout",
     "output_type": "stream",
     "text": [
      "Warning: blank or short page found 17200 A https://canvas.cmu.edu/courses/12952/modules/items/4376557\n",
      "Warning: blank or short page found 17214 1 https://canvas.cmu.edu/courses/12952/modules/items/4376508\n",
      "Warning: blank or short page found 17214 A https://canvas.cmu.edu/courses/12952/modules/items/4376503\n",
      "Warning: blank or short page found 17214 B https://canvas.cmu.edu/courses/12952/modules/items/4376505\n",
      "Warning: blank or short page found 17214 C https://canvas.cmu.edu/courses/12952/modules/items/4376506\n",
      "Warning: blank or short page found 17214 D https://canvas.cmu.edu/courses/12952/modules/items/4376507\n",
      "Warning: blank or short page found 17214 E https://canvas.cmu.edu/courses/12952/modules/items/4376504\n",
      "Warning: blank or short page found 17356 1 https://canvas.cmu.edu/courses/12952/modules/items/4376489\n",
      "Warning: blank or short page found 17356 A https://canvas.cmu.edu/courses/12952/modules/items/4376487\n",
      "Warning: blank or short page found 17356 B https://canvas.cmu.edu/courses/12952/modules/items/4376488\n",
      "Warning: blank or short page found 17396 A https://canvas.cmu.edu/courses/12952/modules/items/4376515\n",
      "Warning: blank or short page found 17413 A https://canvas.cmu.edu/courses/12952/modules/items/4376463\n",
      "Warning: blank or short page found 17437 A https://canvas.cmu.edu/courses/12952/modules/items/4376516\n",
      "Warning: blank or short page found 17480 A https://canvas.cmu.edu/courses/12952/modules/items/4376457\n",
      "Warning: blank or short page found 17514 1 https://canvas.cmu.edu/courses/12952/modules/items/4376493\n",
      "Warning: blank or short page found 17514 A https://canvas.cmu.edu/courses/12952/modules/items/4376492\n",
      "Warning: blank or short page found 17514 B https://canvas.cmu.edu/courses/12952/modules/items/4376491\n",
      "Warning: blank or short page found 17514 C https://canvas.cmu.edu/courses/12952/modules/items/4376490\n",
      "Warning: blank or short page found 17514 D https://canvas.cmu.edu/courses/12952/modules/items/4376495\n",
      "Warning: blank or short page found 17514 E https://canvas.cmu.edu/courses/12952/modules/items/4376494\n",
      "Warning: blank or short page found 17611 A https://canvas.cmu.edu/courses/12952/modules/items/4376455\n",
      "Warning: blank or short page found 17637 A https://canvas.cmu.edu/courses/12952/modules/items/4376558\n",
      "Warning: blank or short page found 17655 1 https://canvas.cmu.edu/courses/12952/modules/items/4376546\n",
      "Warning: blank or short page found 17655 A https://canvas.cmu.edu/courses/12952/modules/items/4376545\n",
      "Warning: blank or short page found 17684 A https://canvas.cmu.edu/courses/12952/modules/items/4376551\n",
      "Warning: blank or short page found 17685 A https://canvas.cmu.edu/courses/12952/modules/items/4376451\n",
      "Warning: blank or short page found 17696 A https://canvas.cmu.edu/courses/12952/modules/items/4376462\n",
      "Warning: blank or short page found 17702 A https://canvas.cmu.edu/courses/12952/modules/items/4376509\n",
      "Warning: blank or short page found 17735 A https://canvas.cmu.edu/courses/12952/modules/items/4376498\n",
      "Warning: blank or short page found 17755 1 https://canvas.cmu.edu/courses/12952/modules/items/4376502\n",
      "Warning: blank or short page found 17755 A https://canvas.cmu.edu/courses/12952/modules/items/4376501\n",
      "Warning: blank or short page found 17766 1 https://canvas.cmu.edu/courses/12952/modules/items/4376469\n",
      "Warning: blank or short page found 17766 A https://canvas.cmu.edu/courses/12952/modules/items/4376471\n",
      "Warning: blank or short page found 17766 B https://canvas.cmu.edu/courses/12952/modules/items/4376470\n",
      "Warning: blank or short page found 17780 A https://canvas.cmu.edu/courses/12952/modules/items/4376482\n",
      "Warning: blank or short page found 17801 A https://canvas.cmu.edu/courses/12952/modules/items/4376478\n",
      "Warning: blank or short page found 17960 A https://canvas.cmu.edu/courses/12952/modules/items/4376484\n",
      "Warning: blank or short page found 17648 A https://canvas.cmu.edu/courses/12952/modules/items/4376454\n",
      "Warning: blank or short page found 17655 D https://canvas.cmu.edu/courses/12952/modules/items/4376547\n"
     ]
    },
    {
     "name": "stderr",
     "output_type": "stream",
     "text": [
      " 87%|██████████████████████████████████████████████████████████████████████████████████████████████████████▎               | 52/60 [04:00<01:19,  9.92s/it]"
     ]
    },
    {
     "name": "stdout",
     "output_type": "stream",
     "text": [
      "Warning: blank or short page found 17651 D https://canvas.cmu.edu/courses/12952/modules/items/4376514\n",
      "Warning: blank or short page found 11411 A https://canvas.cmu.edu/courses/12953/modules/items/4376739\n",
      "Warning: blank or short page found 11611 A https://canvas.cmu.edu/courses/12953/modules/items/4376688\n"
     ]
    },
    {
     "name": "stderr",
     "output_type": "stream",
     "text": [
      " 98%|████████████████████████████████████████████████████████████████████████████████████████████████████████████████████  | 59/60 [04:14<00:02,  2.72s/it]"
     ]
    },
    {
     "name": "stdout",
     "output_type": "stream",
     "text": [
      "Warning: blank or short page found 98000 A https://canvas.cmu.edu/courses/12960/modules/items/4377267\n"
     ]
    },
    {
     "name": "stderr",
     "output_type": "stream",
     "text": [
      "100%|██████████████████████████████████████████████████████████████████████████████████████████████████████████████████████| 60/60 [04:25<00:00,  4.42s/it]\n",
      " 59%|█████████████████████████████████████████████████████████████████████▋                                                | 36/61 [02:31<01:28,  3.52s/it]"
     ]
    },
    {
     "name": "stdout",
     "output_type": "stream",
     "text": [
      "Warning: blank or short page found 21111 W https://canvas.cmu.edu/courses/10264/modules/items/3312221\n"
     ]
    },
    {
     "name": "stderr",
     "output_type": "stream",
     "text": [
      " 61%|███████████████████████████████████████████████████████████████████████▌                                              | 37/61 [02:42<02:17,  5.73s/it]"
     ]
    },
    {
     "name": "stdout",
     "output_type": "stream",
     "text": [
      "Warning: Invalid title 24200: Maker Series: Intro to Manual Machining\n",
      "Warning: Invalid title 24202: Intro to CAD\n",
      "Warning: Invalid title 24302: MechE Seminar\n",
      "Warning: Invalid title 24322: Heat Transfer\n",
      "Warning: Invalid title 24370: Design I\n",
      "Warning: Invalid title 24441: Engineering Design II: Conceptualization and Realization\n",
      "Warning: Invalid title 24632: Additive Manufacturing Process and Product Development\n",
      "Warning: Invalid title 24650: Applied Finite Element Analysis\n",
      "Warning: Invalid title 24672: Special Topics: DIY Design and Fabrication\n",
      "Warning: Invalid title 24680: Quantitative Entrepreneurship\n",
      "Warning: Invalid title 24692: Engineering a Startup: How to Start and Grow a Hardware Company\n",
      "Warning: Invalid title 24718: Computational Fluid Dynamics\n",
      "Warning: Invalid title 24722: Energy System Modeling\n",
      "Warning: Invalid title 24753: Special Topics: Principles of Soft Matter Machines and Electronics\n",
      "Warning: Invalid title 24774: Advanced Control Systems Integration\n"
     ]
    },
    {
     "name": "stderr",
     "output_type": "stream",
     "text": [
      " 66%|█████████████████████████████████████████████████████████████████████████████▍                                        | 40/61 [02:56<01:41,  4.85s/it]"
     ]
    },
    {
     "name": "stdout",
     "output_type": "stream",
     "text": [
      "Warning: blank or short page found 57960 A https://canvas.cmu.edu/courses/10268/modules/items/2164078\n"
     ]
    },
    {
     "name": "stderr",
     "output_type": "stream",
     "text": [
      " 74%|███████████████████████████████████████████████████████████████████████████████████████                               | 45/61 [03:06<00:43,  2.72s/it]"
     ]
    },
    {
     "name": "stdout",
     "output_type": "stream",
     "text": [
      "Warning: blank or short page found 85102 1 https://canvas.cmu.edu/courses/10273/modules/items/3561112\n",
      "Warning: blank or short page found 85310 A https://canvas.cmu.edu/courses/10273/modules/items/3663248\n",
      "Warning: blank or short page found 85406 A https://canvas.cmu.edu/courses/10273/modules/items/3663249\n"
     ]
    },
    {
     "name": "stderr",
     "output_type": "stream",
     "text": [
      " 80%|██████████████████████████████████████████████████████████████████████████████████████████████▊                       | 49/61 [03:24<00:41,  3.49s/it]"
     ]
    },
    {
     "name": "stdout",
     "output_type": "stream",
     "text": [
      "Warning: blank or short page found 02761 1 https://canvas.cmu.edu/courses/10276/modules/items/3402291\n"
     ]
    },
    {
     "name": "stderr",
     "output_type": "stream",
     "text": [
      " 90%|██████████████████████████████████████████████████████████████████████████████████████████████████████████▍           | 55/61 [03:38<00:13,  2.22s/it]"
     ]
    },
    {
     "name": "stdout",
     "output_type": "stream",
     "text": [
      "Warning: blank or short page found 17214 1 https://canvas.cmu.edu/courses/10283/modules/items/3713203\n",
      "Warning: blank or short page found 17214 A https://canvas.cmu.edu/courses/10283/modules/items/3713204\n",
      "Warning: blank or short page found 17214 B https://canvas.cmu.edu/courses/10283/modules/items/3713205\n",
      "Warning: blank or short page found 17214 C https://canvas.cmu.edu/courses/10283/modules/items/3713206\n",
      "Warning: blank or short page found 17214 D https://canvas.cmu.edu/courses/10283/modules/items/3713207\n",
      "Warning: blank or short page found 17214 E https://canvas.cmu.edu/courses/10283/modules/items/3713208\n",
      "Warning: blank or short page found 17313 1 https://canvas.cmu.edu/courses/10283/modules/items/3713210\n",
      "Warning: blank or short page found 17313 A https://canvas.cmu.edu/courses/10283/modules/items/3713211\n",
      "Warning: blank or short page found 17313 B https://canvas.cmu.edu/courses/10283/modules/items/3713212\n",
      "Warning: blank or short page found 17428 A https://canvas.cmu.edu/courses/10283/modules/items/3661232\n",
      "Warning: blank or short page found 17437 A https://canvas.cmu.edu/courses/10283/modules/items/3708947\n",
      "Warning: blank or short page found 17514 1 https://canvas.cmu.edu/courses/10283/modules/items/3708958\n",
      "Warning: blank or short page found 17514 A https://canvas.cmu.edu/courses/10283/modules/items/3708959\n",
      "Warning: blank or short page found 17514 B https://canvas.cmu.edu/courses/10283/modules/items/3708960\n",
      "Warning: blank or short page found 17514 C https://canvas.cmu.edu/courses/10283/modules/items/3708961\n",
      "Warning: blank or short page found 17514 D https://canvas.cmu.edu/courses/10283/modules/items/3708962\n",
      "Warning: blank or short page found 17514 E https://canvas.cmu.edu/courses/10283/modules/items/3699836\n",
      "Warning: blank or short page found 17562 A https://canvas.cmu.edu/courses/10283/modules/items/3699840\n",
      "Warning: blank or short page found 17637 A https://canvas.cmu.edu/courses/10283/modules/items/3713194\n",
      "Warning: blank or short page found 17662 A1 https://canvas.cmu.edu/courses/10283/modules/items/3713213\n",
      "Warning: blank or short page found 17728 A https://canvas.cmu.edu/courses/10283/modules/items/3699825\n"
     ]
    },
    {
     "name": "stderr",
     "output_type": "stream",
     "text": [
      " 92%|████████████████████████████████████████████████████████████████████████████████████████████████████████████▎         | 56/61 [03:50<00:27,  5.42s/it]"
     ]
    },
    {
     "name": "stdout",
     "output_type": "stream",
     "text": [
      "Warning: blank or short page found 17762 A https://canvas.cmu.edu/courses/10283/modules/items/3713197\n"
     ]
    },
    {
     "name": "stderr",
     "output_type": "stream",
     "text": [
      " 95%|████████████████████████████████████████████████████████████████████████████████████████████████████████████████▏     | 58/61 [03:52<00:09,  3.20s/it]"
     ]
    },
    {
     "name": "stdout",
     "output_type": "stream",
     "text": [
      "Warning: blank or short page found 36309 1 https://canvas.cmu.edu/courses/10286/modules/items/4111407\n",
      "Warning: blank or short page found 36309 A https://canvas.cmu.edu/courses/10286/modules/items/4111408\n",
      "Warning: blank or short page found 36309 B https://canvas.cmu.edu/courses/10286/modules/items/4111409\n",
      "Warning: blank or short page found 36309 C https://canvas.cmu.edu/courses/10286/modules/items/4111410\n",
      "Warning: blank or short page found 36309 D https://canvas.cmu.edu/courses/10286/modules/items/4091117\n"
     ]
    },
    {
     "name": "stderr",
     "output_type": "stream",
     "text": [
      " 97%|██████████████████████████████████████████████████████████████████████████████████████████████████████████████████▏   | 59/61 [03:58<00:07,  3.84s/it]"
     ]
    },
    {
     "name": "stdout",
     "output_type": "stream",
     "text": [
      "Warning: blank or short page found 36309 E https://canvas.cmu.edu/courses/10286/modules/items/4091118\n"
     ]
    },
    {
     "name": "stderr",
     "output_type": "stream",
     "text": [
      "100%|██████████████████████████████████████████████████████████████████████████████████████████████████████████████████████| 61/61 [04:18<00:00,  4.23s/it]\n",
      "100%|██████████████████████████████████████████████████████████████████████████████████████████████████████████████████████| 61/61 [00:46<00:00,  1.30it/s]\n",
      " 20%|███████████████████████▏                                                                                              | 12/61 [00:06<00:27,  1.77it/s]"
     ]
    },
    {
     "name": "stdout",
     "output_type": "stream",
     "text": [
      "Warning: blank or short page found 09105 S https://canvas.cmu.edu/courses/10046/modules/items/2991420\n",
      "Warning: blank or short page found 09105 W https://canvas.cmu.edu/courses/10046/modules/items/2991423\n",
      "Warning: blank or short page found 09217 S https://canvas.cmu.edu/courses/10046/modules/items/2991418\n",
      "Warning: blank or short page found 09217 W https://canvas.cmu.edu/courses/10046/modules/items/2991414\n"
     ]
    },
    {
     "name": "stderr",
     "output_type": "stream",
     "text": [
      " 21%|█████████████████████████▏                                                                                            | 13/61 [00:08<00:50,  1.04s/it]"
     ]
    },
    {
     "name": "stdout",
     "output_type": "stream",
     "text": [
      "Warning: blank or short page found 09218 W https://canvas.cmu.edu/courses/10046/modules/items/2991421\n"
     ]
    },
    {
     "name": "stderr",
     "output_type": "stream",
     "text": [
      "100%|██████████████████████████████████████████████████████████████████████████████████████████████████████████████████████| 61/61 [00:45<00:00,  1.33it/s]\n"
     ]
    }
   ],
   "source": [
    "syllabi_by_sem = {}\n",
    "\n",
    "print(list(sis_ids.keys()))\n",
    "for sem, ids in sis_ids.items():\n",
    "    syllabi = {}\n",
    "    for sis_id in tqdm(ids):\n",
    "        s = get_syllabi(sis_id, verbose=False)\n",
    "        for num, sec, name, ftype, url in s:\n",
    "            if num not in syllabi:\n",
    "                syllabi[num] = []\n",
    "            syllabi[num].append((num, sec, name, ftype, url))\n",
    "    \n",
    "    syllabi_by_sem[sem] = syllabi"
   ]
  },
  {
   "cell_type": "code",
   "execution_count": null,
   "id": "d43c8e49-dce9-4c28-ba96-a2f7fb9e39f9",
   "metadata": {},
   "outputs": [],
   "source": []
  },
  {
   "cell_type": "code",
   "execution_count": 150,
   "id": "cce90f6d-ba9c-4076-b8fc-9ad6f6b2ad24",
   "metadata": {},
   "outputs": [],
   "source": [
    "# We love lazy-loading\n",
    "# i'm writing this at 3:15am realizing this would all\n",
    "# be so much cleaner if i did it in a functional language\n",
    "course_info_cache = {}\n",
    "def get_courses(sem):\n",
    "    assert len(sem) == 3\n",
    "    if sem not in course_info_cache:\n",
    "        with open(os.path.join(DATA_DIR, \"courses_\"+sem[0]+\"20\"+sem[1:]+\".json\")) as f:\n",
    "            course_info_cache[sem] = json.load(f)\n",
    "    \n",
    "    return course_info_cache[sem]\n",
    "\n",
    "def get_sections(sem, course):\n",
    "    c = get_courses(sem).get(course, [])\n",
    "    c = [x for x in c if (\"Pittsburgh\" in x[\"campus\"])]\n",
    "    return c\n",
    "\n",
    "def _clean_sec_name(sec):\n",
    "    sec = sec.strip()\n",
    "    if sec == \"Lec\":\n",
    "        return \"1\"\n",
    "    if sec.startswith(\"Lec \") and sec.split(\" \")[-1].strip().isnumeric():\n",
    "        return sec.split(\" \")[-1].strip()\n",
    "    \n",
    "    return sec\n",
    "\n",
    "def get_sections_clean(sem, course):\n",
    "    c2 = get_courses(sem).get(course, [])\n",
    "    c = [x for x in c2 if (\"Pittsburgh\" in x[\"campus\"])]\n",
    "    other_campuses = [_clean_sec_name(x[\"section\"]) for x in c2 if (\"Pittsburgh\" not in x[\"campus\"])]\n",
    "    c = copy.deepcopy(c)\n",
    "    for x in c:\n",
    "        x[\"section\"] = _clean_sec_name(x[\"section\"])\n",
    "        \n",
    "    return c, other_campuses\n",
    "\n",
    "def _parse_instructors(dat):\n",
    "    dat = dat[\"instructors\"].strip()\n",
    "    if dat == \"Instructor TBA\" or dat == \"TBA\":\n",
    "        return set([])\n",
    "    else:\n",
    "        return set([a.strip() for a in dat.split(\",\")])\n",
    "\n",
    "def get_unique_sections(sem, course):\n",
    "    sections = get_sections(sem, course)\n",
    "    if len(dat) == 0:\n",
    "        return []\n",
    "\n",
    "    s = [x[\"section\"] for x in sections]\n",
    "    s2 = [x for x in sections if\n",
    "            (_clean_sec_name(x[\"section\"]).isnumeric()) or\n",
    "            (x[\"section\"] in string.ascii_uppercase) or \n",
    "            (x[\"section\"][0] in string.ascii_uppercase and x[\"section\"][1] in string.digits) or\n",
    "            (x[\"section\"][0] in string.ascii_uppercase and x[\"section\"][1] in string.ascii_uppercase)]\n",
    "    \n",
    "    if len(s2) == 0:\n",
    "        return []\n",
    "    \n",
    "    # very basic heuristic; if there exists at least one section with all instructors\n",
    "    # listed (and other sections have some subset of those instructors) we assume\n",
    "    # they are all the same instructors and just SOC being weird; if there is any\n",
    "    # amount of disjoint-ness then we \n",
    "    instructor_sets = [_parse_instructors(b) for b in s2]\n",
    "    largest_set = sorted(instructor_sets, key=lambda x: len(x))[-1]\n",
    "    all_same_instructors = all(x.issubset(largest_set) for x in instructor_sets)\n",
    "    \n",
    "    \n",
    "    if all_same_instructors:\n",
    "        x = copy.deepcopy(s2[0])\n",
    "        if len(largest_set) == 0:\n",
    "            x[\"instructors\"] = \"Instructor TBA\"\n",
    "        else:\n",
    "            x[\"instructors\"] = \", \".join(sorted(list(largest_set)))\n",
    "        return [x]\n",
    "    else:\n",
    "        return [x for x in s2]\n"
   ]
  },
  {
   "cell_type": "code",
   "execution_count": null,
   "id": "6c15be00-4691-4f38-adbe-84095de53181",
   "metadata": {},
   "outputs": [],
   "source": []
  },
  {
   "cell_type": "code",
   "execution_count": null,
   "id": "4b8942ff-6be1-422a-a165-b81da76ba302",
   "metadata": {},
   "outputs": [],
   "source": []
  },
  {
   "cell_type": "code",
   "execution_count": null,
   "id": "d08f8122-a3f5-4239-909c-c6c9c87f0dc0",
   "metadata": {
    "tags": []
   },
   "outputs": [],
   "source": [
    "\"\"\"\n",
    "S = \"F21\"\n",
    "for course in get_courses(S):\n",
    "    dat = get_sections(S, course)\n",
    "    if len(dat) == 0:\n",
    "        continue\n",
    "    s = [x[\"section\"] for x in dat]\n",
    "    s2 = [(x in string.ascii_uppercase) or (x[0] in string.ascii_uppercase and x[1] in string.digits) for x in s]\n",
    "    \n",
    "    if not any(s2):\n",
    "        print(course, s)\n",
    "\"\"\""
   ]
  },
  {
   "cell_type": "code",
   "execution_count": null,
   "id": "74d509c3-7126-4feb-a60b-0144b0434551",
   "metadata": {},
   "outputs": [],
   "source": [
    "get_syllabi(\"syllabus-registry-F22-CS\", verbose=False)"
   ]
  },
  {
   "cell_type": "code",
   "execution_count": 19,
   "id": "2b7ff82d-49df-4997-b12c-73d53fe82171",
   "metadata": {},
   "outputs": [
    {
     "data": {
      "text/plain": [
       "dict_keys(['F22', 'N22', 'M22', 'S22', 'F21', 'N21', 'M21', 'S21', 'F20', 'N20', 'M20', 'S20', 'F19', 'N19', 'M19'])"
      ]
     },
     "execution_count": 19,
     "metadata": {},
     "output_type": "execute_result"
    }
   ],
   "source": [
    "syllabi_by_sem.keys()"
   ]
  },
  {
   "cell_type": "code",
   "execution_count": 21,
   "id": "50cc022c-7891-49f7-9124-2f4480d2980c",
   "metadata": {},
   "outputs": [],
   "source": [
    "with open(\"temp.json\", \"w+\") as f:\n",
    "    json.dump(syllabi_by_sem, f)"
   ]
  },
  {
   "cell_type": "code",
   "execution_count": 107,
   "id": "d7ea103f-88ea-4c04-b0fc-8e09e15594d8",
   "metadata": {},
   "outputs": [],
   "source": [
    "def none_pittsburgh(sections):\n",
    "    return all(x in [\"W\", \"W1\", \"W2\", \"X\", \"SV\"] for x in sections)"
   ]
  },
  {
   "cell_type": "code",
   "execution_count": 157,
   "id": "3e9aa4f5-9cec-43e9-a0d1-6e51e5afcea1",
   "metadata": {},
   "outputs": [
    {
     "name": "stdout",
     "output_type": "stream",
     "text": [
      "\n",
      "Processing F22\n",
      "Warning: zero matching sections 45801 F22 ['E1'] ['A1'] ['A1'] []\n",
      "Warning: zero sections in SOC 51819 F22 ['A2']\n",
      "Warning: zero sections in SOC 54804 F22 ['A']\n",
      "Warning: zero matching sections 94894 F22 ['A'] ['A2'] ['A2'] []\n",
      "Skipping N22\n",
      "Skipping M22\n",
      "\n",
      "Processing S22\n",
      "\n",
      "Processing F21\n",
      "Warning: zero sections in SOC 99430 F21 ['A']\n",
      "Warning: zero sections in SOC 94841 F21 ['A2', 'K2']\n",
      "Warning: zero sections in SOC 24699 F21 ['A1']\n",
      "Warning: zero sections in SOC 85314 F21 ['A']\n",
      "Warning: zero sections in SOC 88 F21 ['150']\n",
      "Skipping N21\n",
      "Skipping M21\n",
      "\n",
      "Processing S21\n",
      "Warning: zero sections in SOC 93870 S21 ['A']\n",
      "Warning: zero sections in SOC 99430 S21 ['A']\n",
      "Warning: zero sections in SOC 84202 S21 ['A4']\n",
      "Warning: zero sections in SOC 84601 S21 ['A4']\n",
      "Warning: zero sections in SOC 57358 S21 ['A']\n",
      "Warning: zero sections in SOC 80880 S21 ['A']\n",
      "Warning: zero sections in SOC 90864 S21 ['A3', 'W3']\n",
      "Warning: zero sections in SOC 15661 S21 ['A4']\n",
      "\n",
      "Processing F20\n",
      "Warning: zero matching sections 94708 F20 ['B2'] ['A1'] ['A1'] []\n",
      "Warning: zero sections in SOC 79474 F20 ['A']\n",
      "Warning: zero sections in SOC 49 F20 ['747 A']\n",
      "Warning: zero matching sections 90777 F20 ['A1', 'B1', 'C1'] ['A2', 'A2'] ['A2'] []\n",
      "Skipping N20\n",
      "Skipping M20\n",
      "\n",
      "Processing S20\n",
      "Warning: zero matching sections 79222 S20 ['A4'] ['A'] ['A'] []\n",
      "Warning: zero matching sections 79252 S20 ['A4'] ['A'] ['A'] []\n",
      "Warning: zero sections in SOC 79258 S20 ['A4']\n",
      "Warning: zero matching sections 79284 S20 ['A4'] ['A'] ['A'] []\n",
      "Warning: zero matching sections 79353 S20 ['A4'] ['A'] ['A'] []\n",
      "Warning: zero sections in SOC 79764 S20 ['A4']\n",
      "Warning: zero sections in SOC 79767 S20 ['A3']\n",
      "Warning: zero sections in SOC 21803 S20 ['A']\n",
      "Warning: zero sections in SOC 90707 S20 ['K']\n",
      "Warning: zero sections in SOC 11742 S20 ['A']\n",
      "Warning: zero sections in SOC 88452 S20 ['A']\n",
      "\n",
      "Processing F19\n",
      "Warning: zero sections in SOC 48767 F19 ['A']\n",
      "Warning: zero sections in SOC 03117 F19 ['1', '2', 'A', 'B']\n",
      "Warning: zero sections in SOC 03118 F19 ['12', 'A2']\n",
      "Warning: zero sections in SOC 03121 F19 ['A']\n",
      "Warning: zero sections in SOC 03125 F19 ['A', 'W']\n",
      "Warning: zero sections in SOC 03128 F19 ['A', 'W']\n",
      "Warning: zero sections in SOC 03133 F19 ['A']\n",
      "Warning: zero sections in SOC 03201 F19 ['A', 'W']\n",
      "Warning: zero sections in SOC 03206 F19 ['A', 'B']\n",
      "Warning: zero sections in SOC 03220 F19 ['1', 'A', 'B']\n",
      "Warning: zero sections in SOC 03301 F19 ['A']\n",
      "Warning: zero sections in SOC 03343 F19 ['1', 'A', 'B', 'C', 'D', 'W']\n",
      "Warning: zero sections in SOC 03401 F19 ['A']\n",
      "Warning: zero sections in SOC 03435 F19 ['A']\n",
      "Warning: zero sections in SOC 03701 F19 ['A1']\n",
      "Warning: zero sections in SOC 03702 F19 ['A2']\n",
      "Warning: zero sections in SOC 03709 F19 ['A']\n",
      "Warning: zero sections in SOC 03758 F19 ['A1', 'A2']\n",
      "Warning: zero sections in SOC 03511 F19 ['A']\n",
      "Warning: zero sections in SOC 03711 F19 ['A']\n",
      "Warning: zero sections in SOC 06100 F19 ['1', 'A']\n",
      "Warning: zero sections in SOC 06221 F19 ['A']\n",
      "Warning: zero sections in SOC 06222 F19 ['A']\n",
      "Warning: zero sections in SOC 06321 F19 ['A']\n",
      "Warning: zero sections in SOC 06322 F19 ['A']\n",
      "Warning: zero sections in SOC 06421 F19 ['A']\n",
      "Warning: zero sections in SOC 06423 F19 ['1', 'A', 'B', 'C']\n",
      "Warning: zero sections in SOC 06426 F19 ['A']\n",
      "Warning: zero sections in SOC 06500 F19 ['A']\n",
      "Warning: zero sections in SOC 06608 F19 ['A']\n",
      "Warning: zero sections in SOC 06609 F19 ['A']\n",
      "Warning: zero sections in SOC 06611 F19 ['A']\n",
      "Warning: zero sections in SOC 06622 F19 ['A']\n",
      "Warning: zero sections in SOC 06623 F19 ['A']\n",
      "Warning: zero sections in SOC 06625 F19 ['A']\n",
      "Warning: zero sections in SOC 06635 F19 ['A']\n",
      "Warning: zero sections in SOC 06703 F19 ['A']\n",
      "Warning: zero sections in SOC 06705 F19 ['A']\n",
      "Warning: zero sections in SOC 06722 F19 ['A']\n",
      "Warning: zero sections in SOC 06801 F19 ['A', 'B']\n",
      "Warning: zero sections in SOC 06907 F19 ['A']\n",
      "Warning: zero sections in SOC 09101 F19 ['11', 'A1']\n",
      "Warning: zero sections in SOC 09105 F19 ['E', 'F', 'G', 'H', 'I', 'J', 'W']\n",
      "Warning: zero sections in SOC 09106 F19 ['1', 'A', 'B']\n",
      "Warning: zero sections in SOC 09107 F19 ['1', 'A', 'B']\n",
      "Warning: zero sections in SOC 09108 F19 ['A1']\n",
      "Warning: zero sections in SOC 09115 F19 ['A2']\n",
      "Warning: zero sections in SOC 09122 F19 ['1', 'A']\n",
      "Warning: zero sections in SOC 09201 F19 ['A']\n",
      "Warning: zero sections in SOC 09207 F19 ['1', 'A', 'B', 'W']\n",
      "Warning: zero sections in SOC 09214 F19 ['1', 'A']\n",
      "Warning: zero sections in SOC 09217 F19 ['1', 'A', 'B', 'C', 'D', 'E', 'F', 'W']\n",
      "Warning: zero sections in SOC 09221 F19 ['1', 'A', 'B']\n",
      "Warning: zero sections in SOC 09225 F19 ['A']\n",
      "Warning: zero sections in SOC 09301 F19 ['A']\n",
      "Warning: zero sections in SOC 09321 F19 ['1', 'A']\n",
      "Warning: zero sections in SOC 09323 F19 ['A']\n",
      "Warning: zero sections in SOC 09344 F19 ['1', 'A']\n",
      "Warning: zero sections in SOC 09401 F19 ['A']\n",
      "Warning: zero sections in SOC 09402 F19 ['A']\n",
      "Warning: zero sections in SOC 09509 F19 ['A']\n",
      "Warning: zero sections in SOC 09519 F19 ['A']\n",
      "Warning: zero sections in SOC 09603 F19 ['A1']\n",
      "Warning: zero sections in SOC 09715 F19 ['A']\n",
      "Warning: zero sections in SOC 09719 F19 ['A']\n",
      "Warning: zero sections in SOC 09801 F19 ['A']\n",
      "Warning: zero sections in SOC 94885 F19 ['A2']\n",
      "Warning: zero sections in SOC 94886 F19 ['A2']\n",
      "Warning: zero sections in SOC 94888 F19 ['K2']\n",
      "Warning: zero sections in SOC 04601 F19 ['A']\n",
      "Warning: zero sections in SOC 04611 F19 ['A']\n",
      "Warning: zero sections in SOC 04641 F19 ['A', 'B']\n",
      "Warning: zero sections in SOC 04900 F19 ['A']\n",
      "Warning: zero sections in SOC 24104: Maker Series  F19 [' Intro to Modern Making']\n",
      "Warning: zero sections in SOC 24205: Maker Series  F19 [' Intro to Welding']\n",
      "Warning: zero sections in SOC 24206: Maker Series  F19 [' Intro to Wood Working']\n",
      "Warning: zero sections in SOC 24207: Maker Series  F19 [' Intro to CNC Router']\n",
      "Warning: zero sections in SOC 24300: Maker Series  F19 [' Intro to CNC Machining']\n",
      "Warning: zero sections in SOC 90740 F19 ['K']\n",
      "Warning: zero sections in SOC 90837 F19 ['K2']\n",
      "Warning: zero sections in SOC 02261 F19 ['1', 'A', 'B']\n",
      "Warning: zero sections in SOC 02512 F19 ['A']\n",
      "Warning: zero sections in SOC 02518 F19 ['A']\n",
      "Warning: zero sections in SOC 02601 F19 ['1', 'A']\n",
      "Warning: zero sections in SOC 02602 F19 ['A']\n",
      "Warning: zero sections in SOC 02613 F19 ['A']\n",
      "Warning: zero sections in SOC 02680 F19 ['A']\n",
      "Warning: zero sections in SOC 02712 F19 ['A']\n",
      "Warning: zero sections in SOC 02718 F19 ['A']\n",
      "Warning: zero sections in SOC 02740 F19 ['A']\n",
      "Warning: zero sections in SOC 02760 F19 ['A']\n",
      "Warning: zero sections in SOC 02761 F19 ['A', 'B']\n",
      "Warning: zero sections in SOC 05291 F19 ['A']\n",
      "Warning: zero sections in SOC 05333 F19 ['A']\n",
      "Warning: zero sections in SOC 05434 F19 ['A']\n",
      "Warning: zero sections in SOC 05438 F19 ['A']\n",
      "Warning: zero sections in SOC 05691 F19 ['A']\n",
      "Warning: zero sections in SOC 05833 F19 ['A']\n",
      "Warning: zero sections in SOC 05834 F19 ['A']\n",
      "Warning: zero sections in SOC 05838 F19 ['A']\n",
      "Warning: zero sections in SOC 05839 F19 ['A']\n",
      "Skipping N19\n",
      "Skipping M19\n"
     ]
    }
   ],
   "source": [
    "# Generate data format for TurtleBot\n",
    "data_for_tb = {}\n",
    "\n",
    "SHOW_INFO = False\n",
    "\n",
    "for sem in syllabi_by_sem.keys():\n",
    "    if sem[0] not in [\"S\", \"F\"]:\n",
    "        print(\"Skipping\", sem)\n",
    "        continue\n",
    "    \n",
    "    print()\n",
    "    print(\"Processing\", sem)\n",
    "    for course, dat in list(syllabi_by_sem[sem].items()):\n",
    "        s_nonunique, s_other_campuses = get_sections_clean(sem, course)\n",
    "        s_sections = get_unique_sections(sem, course)\n",
    "        \n",
    "        info = []\n",
    "        if len(s_sections) == 0:\n",
    "            ss = [x[1] for x in dat]\n",
    "            if not none_pittsburgh(ss) and not len(s_other_campuses):\n",
    "                print(\"Warning: zero sections in SOC\", course, sem, ss)\n",
    "            continue\n",
    "\n",
    "        assert len(dat) > 0\n",
    "        coursename = dat[0][2]\n",
    "        for x in dat:\n",
    "            match = [y for y in s_sections if _clean_sec_name(y[\"section\"]) == x[1]]\n",
    "            if len(match):\n",
    "                inst = match[0][\"instructors\"]\n",
    "                if inst == \"Instructor TBA\" or inst == \"TBA\":\n",
    "                    inst = \"Unknown Instructor\"\n",
    "                info.append([sem, \"{}-{} ({})\".format(course, x[1], inst), x[4]])\n",
    "\n",
    "        if len(info) == 0:\n",
    "            if SHOW_INFO:\n",
    "                print(\"Info: uniqueness failed\", course, sem, \n",
    "                          [x[1] for x in dat], [x[\"section\"] for x in s_nonunique],\n",
    "                          [x[\"section\"] for x in s_sections])\n",
    "\n",
    "            success = False\n",
    "            for x in dat:\n",
    "                match = [y for y in s_nonunique if _clean_sec_name(y[\"section\"]) == x[1]]\n",
    "                if len(match):\n",
    "                    inst = match[0][\"instructors\"]\n",
    "                    if inst == \"Instructor TBA\" or inst == \"TBA\":\n",
    "                        inst = \"Unknown Instructor\"\n",
    "                    info.append([sem, \"{}-{} ({})\".format(course, x[1], inst), x[4]])\n",
    "                    success = True\n",
    "                    break\n",
    "\n",
    "            if not success and \\\n",
    "                    not none_pittsburgh([x[1] for x in dat]) and \\\n",
    "                    not all(x[1] in s_other_campuses for x in dat):\n",
    "\n",
    "                print(\"Warning: zero matching sections\", course, sem, \n",
    "                      [x[1] for x in dat], [x[\"section\"] for x in s_nonunique],\n",
    "                      [x[\"section\"] for x in s_sections],\n",
    "                      s_other_campuses)\n",
    "                continue\n",
    "\n",
    "        if course not in data_for_tb:\n",
    "            data_for_tb[course] = [\"\", []]\n",
    "\n",
    "        if len(coursename) > len(data_for_tb[course][0]):\n",
    "            data_for_tb[course][0] = coursename\n",
    "\n",
    "        data_for_tb[course][1] += info\n",
    "\n",
    "        #print([x for x in s_sections])\n",
    "        #print(info)\n",
    "        #print()"
   ]
  },
  {
   "cell_type": "code",
   "execution_count": 158,
   "id": "a4bd9a34-a438-4a1f-9f6e-2541cd2cfad0",
   "metadata": {},
   "outputs": [],
   "source": [
    "with open(\"data_for_tb.json\", \"w+\") as f:\n",
    "    json.dump(data_for_tb, f)"
   ]
  },
  {
   "cell_type": "code",
   "execution_count": 159,
   "id": "407ed6d9-f908-4e15-9d00-8fcda26e3fdc",
   "metadata": {},
   "outputs": [
    {
     "data": {
      "text/plain": [
       "82"
      ]
     },
     "execution_count": 159,
     "metadata": {},
     "output_type": "execute_result"
    }
   ],
   "source": [
    "len(data_for_tb[\"76101\"][1])"
   ]
  },
  {
   "cell_type": "code",
   "execution_count": 160,
   "id": "44941c29-d16f-43e5-adc6-abea2cd9728d",
   "metadata": {},
   "outputs": [
    {
     "data": {
      "text/plain": [
       "['Discrete Mathematics',\n",
       " [['S22',\n",
       "   '21228-1 (Bohman)',\n",
       "   'https://canvas.cmu.edu/courses/26871/modules/items/5074002'],\n",
       "  ['S21',\n",
       "   '21228-1 (Loh)',\n",
       "   'https://canvas.cmu.edu/courses/20319/modules/items/4735512'],\n",
       "  ['S21',\n",
       "   '21228-A (Uy)',\n",
       "   'https://canvas.cmu.edu/courses/20319/modules/items/4735513'],\n",
       "  ['S21',\n",
       "   '21228-B (Chen)',\n",
       "   'https://canvas.cmu.edu/courses/20319/modules/items/4735514'],\n",
       "  ['S21',\n",
       "   '21228-C (Hathcock)',\n",
       "   'https://canvas.cmu.edu/courses/20319/modules/items/4735515'],\n",
       "  ['S20',\n",
       "   '21228-1 (Bohman)',\n",
       "   'https://canvas.cmu.edu/courses/12937/modules/items/4413170'],\n",
       "  ['S20',\n",
       "   '21228-A (Cox)',\n",
       "   'https://canvas.cmu.edu/courses/12937/modules/items/4413171'],\n",
       "  ['S20',\n",
       "   '21228-B (Cox)',\n",
       "   'https://canvas.cmu.edu/courses/12937/modules/items/4413172'],\n",
       "  ['S20',\n",
       "   '21228-C (He)',\n",
       "   'https://canvas.cmu.edu/courses/12937/modules/items/4413173']]]"
      ]
     },
     "execution_count": 160,
     "metadata": {},
     "output_type": "execute_result"
    }
   ],
   "source": [
    "data_for_tb[\"21228\"]"
   ]
  },
  {
   "cell_type": "code",
   "execution_count": null,
   "id": "637911fd-e29e-4300-8a54-6e3b0fa753a4",
   "metadata": {},
   "outputs": [],
   "source": []
  }
 ],
 "metadata": {
  "kernelspec": {
   "display_name": "Python 3 (ipykernel)",
   "language": "python",
   "name": "python3"
  },
  "language_info": {
   "codemirror_mode": {
    "name": "ipython",
    "version": 3
   },
   "file_extension": ".py",
   "mimetype": "text/x-python",
   "name": "python",
   "nbconvert_exporter": "python",
   "pygments_lexer": "ipython3",
   "version": "3.10.4"
  }
 },
 "nbformat": 4,
 "nbformat_minor": 5
}
